{
  "nbformat": 4,
  "nbformat_minor": 0,
  "metadata": {
    "colab": {
      "provenance": []
    },
    "kernelspec": {
      "name": "python3",
      "display_name": "Python 3"
    },
    "language_info": {
      "name": "python"
    }
  },
  "cells": [
    {
      "cell_type": "code",
      "execution_count": null,
      "metadata": {
        "colab": {
          "base_uri": "https://localhost:8080/",
          "height": 135
        },
        "id": "gP1hioesj9Nq",
        "outputId": "466564eb-6935-4fdd-fbc6-684faacddb81"
      },
      "outputs": [
        {
          "output_type": "error",
          "ename": "SyntaxError",
          "evalue": "ignored",
          "traceback": [
            "\u001b[0;36m  File \u001b[0;32m\"<ipython-input-23-1d81edead15e>\"\u001b[0;36m, line \u001b[0;32m18\u001b[0m\n\u001b[0;31m    (p >>= s)         #output:0\u001b[0m\n\u001b[0m         ^\u001b[0m\n\u001b[0;31mSyntaxError\u001b[0m\u001b[0;31m:\u001b[0m invalid syntax\n"
          ]
        }
      ],
      "source": [
        "# 1. p, s = 9, 8\n",
        "# p *= s ?\n",
        "# p -= s ?\n",
        "# p = p/s ?\n",
        "# p >>= s ?\n",
        "# p = p << s ?\n",
        "\n",
        "p,s = 9,8\n",
        "p *= s\n",
        "print(p)       #output: 72\n",
        "\n",
        "p -= s           #output:1\n",
        "print(p)\n",
        "\n",
        "p = p/s            #output:1.125\n",
        "print(p)\n",
        "\n",
        "(p >>= s)         #output:0\n",
        "print(p)\n",
        "\n",
        "p = p << s       #output:2304\n",
        "print(p)\n",
        "\n",
        "\n"
      ]
    },
    {
      "cell_type": "code",
      "source": [
        "# 2. Example of a multiline comment?\n",
        "\n",
        "# A multiline comment can be written by using docstring(''')\n",
        " '''This is to write a \n",
        "        multiline comment'''"
      ],
      "metadata": {
        "id": "9dgYjAqDn08E"
      },
      "execution_count": null,
      "outputs": []
    },
    {
      "cell_type": "code",
      "source": [
        "# 3. S, t = 3, 4\n",
        "# S %= t ?\n",
        "\n",
        "S ,t = 3, 4\n",
        "print((S%t))\n"
      ],
      "metadata": {
        "colab": {
          "base_uri": "https://localhost:8080/"
        },
        "id": "R66-jCEVoXg1",
        "outputId": "648f4870-ee92-4896-ca51-c431a106d9c4"
      },
      "execution_count": null,
      "outputs": [
        {
          "output_type": "stream",
          "name": "stdout",
          "text": [
            "3\n"
          ]
        }
      ]
    },
    {
      "cell_type": "code",
      "source": [
        "# 4. A = 8, B = 10\n",
        "# A&B ?\n",
        "# A or B?\n",
        "A= 8\n",
        "B= 10\n",
        "print(A&B)\n",
        "print(A or B)\n"
      ],
      "metadata": {
        "colab": {
          "base_uri": "https://localhost:8080/"
        },
        "id": "gyGU5JJ9pVjq",
        "outputId": "3878a33d-abcb-485d-b2ea-c55de74c2e18"
      },
      "execution_count": null,
      "outputs": [
        {
          "output_type": "stream",
          "name": "stdout",
          "text": [
            "8\n",
            "8\n"
          ]
        }
      ]
    },
    {
      "cell_type": "code",
      "source": [
        "# 5. Command to find the length of the string?\n",
        "\n",
        "a = 'code for india'\n",
        "# to find the lenth of the string,we use\n",
        "len(a)"
      ],
      "metadata": {
        "colab": {
          "base_uri": "https://localhost:8080/"
        },
        "id": "xnEQ2s8-pe-v",
        "outputId": "c88576d4-39e4-4365-ca83-8605ec1b9e81"
      },
      "execution_count": null,
      "outputs": [
        {
          "output_type": "execute_result",
          "data": {
            "text/plain": [
              "14"
            ]
          },
          "metadata": {},
          "execution_count": 21
        }
      ]
    },
    {
      "cell_type": "code",
      "source": [
        "# 6. Which of the following is an invalid identifier?\n",
        "# a. a123\n",
        "# b. _n_9\n",
        "# c. All_is_well\n",
        "# d. aB1!\n",
        "\n",
        "# answer is (d) as it is invalid because it has a symbol.And a variable cannot contain a symbol\n"
      ],
      "metadata": {
        "id": "RrAE422mpgE0"
      },
      "execution_count": null,
      "outputs": []
    },
    {
      "cell_type": "code",
      "source": [
        "# 7. Give an example for each of these for a 4 words sentence -Title Case, CamelCase, SnakeCase?\n",
        "\n",
        "# Title Case: Code For India\n",
        "              # My Python\n",
        "              # Acer Laptop\n",
        "              # Artificial Intelligence\n",
        "# camel case: my Python\n",
        "            # moinSmuf\n",
        "            # lenEvo\n",
        "            # iPod\n",
        "# snake case :code_for_india\n",
        "            #  Code_For_India\n",
        "            # my_variable\n",
        "            # \n",
        "\n"
      ],
      "metadata": {
        "id": "USSvgIYZpqtK"
      },
      "execution_count": null,
      "outputs": []
    },
    {
      "cell_type": "code",
      "source": [
        "# 8. a, b , c = 1, 2, 3\n",
        "# What is the output for b*(c+a)?\n",
        "a,b,c = 1,2,3\n",
        "# according to the precedence rule first perenthasis should be solved\n",
        "print(b*(c+a))\n"
      ],
      "metadata": {
        "colab": {
          "base_uri": "https://localhost:8080/"
        },
        "id": "rTOPONX0v2Og",
        "outputId": "15bf2e63-6518-4225-f3d5-f65fd99553a8"
      },
      "execution_count": null,
      "outputs": [
        {
          "output_type": "stream",
          "name": "stdout",
          "text": [
            "8\n"
          ]
        }
      ]
    },
    {
      "cell_type": "code",
      "source": [
        "# 9. str1 = ' how are you'\n",
        "# Print ‘are’ only.\n",
        "\n",
        "str1 = ' how are you'\n",
        "# if we want to print 'are' we should use slicing\n",
        "print(str1[5:8])"
      ],
      "metadata": {
        "colab": {
          "base_uri": "https://localhost:8080/"
        },
        "id": "nhEPs4wcwUKm",
        "outputId": "b23b47c6-0f1c-4b66-dd88-f7ab839c6bed"
      },
      "execution_count": null,
      "outputs": [
        {
          "output_type": "stream",
          "name": "stdout",
          "text": [
            "are\n"
          ]
        }
      ]
    },
    {
      "cell_type": "code",
      "source": [
        "# 10. Write the command to get only imaginary numbers in the code below?\n",
        "import cmath\n",
        "x = 5\n",
        "y = 5\n",
        "z = complex(x,y)\n",
        "print(z-5)"
      ],
      "metadata": {
        "colab": {
          "base_uri": "https://localhost:8080/"
        },
        "id": "33QnDpfYxCDR",
        "outputId": "7ee07c2b-4a38-47d7-cd3d-0d87d7a8c5ab"
      },
      "execution_count": null,
      "outputs": [
        {
          "output_type": "stream",
          "name": "stdout",
          "text": [
            "5j\n"
          ]
        }
      ]
    },
    {
      "cell_type": "code",
      "source": [
        "# 11. bool( { } )?\n",
        "# bool(False)?\n",
        "bool( { } )\n",
        "bool(False)"
      ],
      "metadata": {
        "colab": {
          "base_uri": "https://localhost:8080/"
        },
        "id": "fsYaZwOuxvZ_",
        "outputId": "d5fac79d-182a-423f-f736-322b6d455f00"
      },
      "execution_count": null,
      "outputs": [
        {
          "output_type": "execute_result",
          "data": {
            "text/plain": [
              "False"
            ]
          },
          "metadata": {},
          "execution_count": 29
        }
      ]
    },
    {
      "cell_type": "code",
      "source": [
        "# 12. What are the data types of following respectively?\n",
        "# a. (1,[2,3]) #tuple\n",
        "# b. [1,2,’f’] #list\n",
        "# c. ‘hey1’    #string\n",
        "# d. 123       #integer\n",
        "# e. { (1,2):[‘e’] }  #dictionary"
      ],
      "metadata": {
        "id": "BNrF2RujyGVB"
      },
      "execution_count": null,
      "outputs": []
    },
    {
      "cell_type": "code",
      "source": [
        "# 13. What is the output for the code below?\n",
        "print(10 == 9)"
      ],
      "metadata": {
        "colab": {
          "base_uri": "https://localhost:8080/"
        },
        "id": "UfaPz4hsymGe",
        "outputId": "63d0b32a-cbe9-450f-dd13-4c4c63e02579"
      },
      "execution_count": null,
      "outputs": [
        {
          "output_type": "stream",
          "name": "stdout",
          "text": [
            "False\n"
          ]
        }
      ]
    },
    {
      "cell_type": "code",
      "source": [
        "# 14. What is the output for the below code?\n",
        "quantity = 3\n",
        "itemno = 567\n",
        "price = 49.95\n",
        "myorder = \"I want to pay {2} dollars for {0} pieces of item {1}.\"\n",
        "# this method is called string formatting\n",
        "print(myorder.format(quantity, itemno, price))\n"
      ],
      "metadata": {
        "colab": {
          "base_uri": "https://localhost:8080/"
        },
        "id": "1IXMafGay1Vu",
        "outputId": "5b420599-28e9-4f52-9e7b-1b79bb4814ac"
      },
      "execution_count": null,
      "outputs": [
        {
          "output_type": "stream",
          "name": "stdout",
          "text": [
            "I want to pay 49.95 dollars for 3 pieces of item 567.\n"
          ]
        }
      ]
    },
    {
      "cell_type": "code",
      "source": [
        "# 15. Convert the words ‘miss’ and ‘python’  to ‘mam’ and ‘C’ respectively without redeclaring the string?\n",
        "Str2 = 'hey miss! Welcome to python'\n",
        "Str2.replace('miss','mam')\n",
        "Str2.replace('python','C')\n",
        "\n"
      ],
      "metadata": {
        "colab": {
          "base_uri": "https://localhost:8080/",
          "height": 36
        },
        "id": "x5UD_C8TzmWU",
        "outputId": "fb4a9ee2-dd51-4c8b-8813-039c86d21a43"
      },
      "execution_count": null,
      "outputs": [
        {
          "output_type": "execute_result",
          "data": {
            "text/plain": [
              "'hey miss! Welcome to C'"
            ],
            "application/vnd.google.colaboratory.intrinsic+json": {
              "type": "string"
            }
          },
          "metadata": {},
          "execution_count": 38
        }
      ]
    },
    {
      "cell_type": "code",
      "source": [
        "# 16. Convert the string to title case and lower case?\n",
        "Str3='HYderabaD'\n",
        "Str3.title()\n",
        "Str3.lower()"
      ],
      "metadata": {
        "colab": {
          "base_uri": "https://localhost:8080/",
          "height": 36
        },
        "id": "Du1PovQd0pdL",
        "outputId": "cf4542cb-9669-4930-8709-f8bc26e6d0a9"
      },
      "execution_count": null,
      "outputs": [
        {
          "output_type": "execute_result",
          "data": {
            "text/plain": [
              "'hyderabad'"
            ],
            "application/vnd.google.colaboratory.intrinsic+json": {
              "type": "string"
            }
          },
          "metadata": {},
          "execution_count": 40
        }
      ]
    },
    {
      "cell_type": "code",
      "source": [
        "# 17. Print how many numbers of ‘ A ‘ / ‘ a ‘  are there in the string without counting manually?\n",
        "Str4 = 'All apples are red in color and round in shape'\n",
        "print(Str4.count('A'))\n",
        "print(Str4.count('a'))\n",
        "\n",
        "\n"
      ],
      "metadata": {
        "colab": {
          "base_uri": "https://localhost:8080/"
        },
        "id": "QyXl6V4C1TLM",
        "outputId": "9a7e5c78-20df-4513-90fd-a28e6c5b2cc9"
      },
      "execution_count": null,
      "outputs": [
        {
          "output_type": "stream",
          "name": "stdout",
          "text": [
            "1\n",
            "4\n"
          ]
        }
      ]
    },
    {
      "cell_type": "code",
      "source": [
        "# 18. What is the output for the code below?\n",
        "x = {1,2,3,4,5}\n",
        "y = {4,5,6,7,8}\n",
        "# print(x+y)  '+' cannot be used we use union method\n",
        "print(x.union(y))\n"
      ],
      "metadata": {
        "colab": {
          "base_uri": "https://localhost:8080/"
        },
        "id": "CsSvTi4M2J1W",
        "outputId": "c6c260db-add3-40dc-ba35-ef276fe2c1e3"
      },
      "execution_count": null,
      "outputs": [
        {
          "output_type": "stream",
          "name": "stdout",
          "text": [
            "{1, 2, 3, 4, 5, 6, 7, 8}\n"
          ]
        }
      ]
    },
    {
      "cell_type": "code",
      "source": [
        "# 19. \n",
        "x = {1,2,3,4,5}\n",
        "y = {4,5,6,7,9}\n",
        "print( x | y )"
      ],
      "metadata": {
        "colab": {
          "base_uri": "https://localhost:8080/"
        },
        "id": "07tEsOlt20Wf",
        "outputId": "0dc76b4e-851c-4743-e54c-0b6d7ed71a07"
      },
      "execution_count": null,
      "outputs": [
        {
          "output_type": "stream",
          "name": "stdout",
          "text": [
            "{1, 2, 3, 4, 5, 6, 7, 9}\n"
          ]
        }
      ]
    },
    {
      "cell_type": "code",
      "source": [
        "# 20. What are the outputs for the code below?\n",
        "print(0 | True)\n",
        "print(0 == True)\n",
        "print('19' == 19 )"
      ],
      "metadata": {
        "colab": {
          "base_uri": "https://localhost:8080/"
        },
        "id": "Bbibr7wo3tJU",
        "outputId": "65745354-aaae-4335-c9f1-91fdcacae380"
      },
      "execution_count": null,
      "outputs": [
        {
          "output_type": "stream",
          "name": "stdout",
          "text": [
            "1\n",
            "False\n",
            "False\n"
          ]
        }
      ]
    },
    {
      "cell_type": "code",
      "source": [
        "# 21. Write a python code to add first n numbers?\n",
        "a=int(input('enter a number:'))\n",
        "b=0\n",
        "for i in range(0,a+1):\n",
        "  b=b+i\n",
        "print(b)\n",
        "\n",
        "\n",
        "\n"
      ],
      "metadata": {
        "colab": {
          "base_uri": "https://localhost:8080/"
        },
        "id": "cEzdJZkf40k7",
        "outputId": "4c96f31d-4b7b-478f-e35d-17f910e510c2"
      },
      "execution_count": null,
      "outputs": [
        {
          "output_type": "stream",
          "name": "stdout",
          "text": [
            "enter a number:10\n",
            "55\n"
          ]
        }
      ]
    },
    {
      "cell_type": "code",
      "source": [
        "# 22. Write a code to loop over the items in fruits list?\n",
        "fruits = [\"apple\", \"orange\", \"kiwi\"]\n",
        "i=0\n",
        "while i in range(len(fruits)):\n",
        "  print(fruits[i])\n",
        "  i+=1"
      ],
      "metadata": {
        "colab": {
          "base_uri": "https://localhost:8080/"
        },
        "id": "IoZGzISf9Khh",
        "outputId": "4a674cf7-b22e-4878-f1ef-72238b6be712"
      },
      "execution_count": null,
      "outputs": [
        {
          "output_type": "stream",
          "name": "stdout",
          "text": [
            "apple\n",
            "orange\n",
            "kiwi\n"
          ]
        }
      ]
    },
    {
      "cell_type": "code",
      "source": [
        "# 23. Write a python code to print 6 tables using for and while loop?\n",
        "# for i in range(1,7):\n",
        "#   for j in range(1,11):\n",
        "#     print(i,'x',j,'=',i*j)\n",
        "\n",
        "i=1\n",
        "while i in range(1,7):\n",
        "  j=1\n",
        "  while j in range(1,11):\n",
        "    print(i,'x',j,'=',i*j)\n",
        "    j+=1\n",
        "  i+=1"
      ],
      "metadata": {
        "colab": {
          "base_uri": "https://localhost:8080/"
        },
        "id": "AUfS0tPp-Bln",
        "outputId": "5b2b86e1-b356-45fe-cb3d-94fec0afb84d"
      },
      "execution_count": null,
      "outputs": [
        {
          "output_type": "stream",
          "name": "stdout",
          "text": [
            "1 x 1 = 1\n",
            "1 x 2 = 2\n",
            "1 x 3 = 3\n",
            "1 x 4 = 4\n",
            "1 x 5 = 5\n",
            "1 x 6 = 6\n",
            "1 x 7 = 7\n",
            "1 x 8 = 8\n",
            "1 x 9 = 9\n",
            "1 x 10 = 10\n",
            "2 x 1 = 2\n",
            "2 x 2 = 4\n",
            "2 x 3 = 6\n",
            "2 x 4 = 8\n",
            "2 x 5 = 10\n",
            "2 x 6 = 12\n",
            "2 x 7 = 14\n",
            "2 x 8 = 16\n",
            "2 x 9 = 18\n",
            "2 x 10 = 20\n",
            "3 x 1 = 3\n",
            "3 x 2 = 6\n",
            "3 x 3 = 9\n",
            "3 x 4 = 12\n",
            "3 x 5 = 15\n",
            "3 x 6 = 18\n",
            "3 x 7 = 21\n",
            "3 x 8 = 24\n",
            "3 x 9 = 27\n",
            "3 x 10 = 30\n",
            "4 x 1 = 4\n",
            "4 x 2 = 8\n",
            "4 x 3 = 12\n",
            "4 x 4 = 16\n",
            "4 x 5 = 20\n",
            "4 x 6 = 24\n",
            "4 x 7 = 28\n",
            "4 x 8 = 32\n",
            "4 x 9 = 36\n",
            "4 x 10 = 40\n",
            "5 x 1 = 5\n",
            "5 x 2 = 10\n",
            "5 x 3 = 15\n",
            "5 x 4 = 20\n",
            "5 x 5 = 25\n",
            "5 x 6 = 30\n",
            "5 x 7 = 35\n",
            "5 x 8 = 40\n",
            "5 x 9 = 45\n",
            "5 x 10 = 50\n",
            "6 x 1 = 6\n",
            "6 x 2 = 12\n",
            "6 x 3 = 18\n",
            "6 x 4 = 24\n",
            "6 x 5 = 30\n",
            "6 x 6 = 36\n",
            "6 x 7 = 42\n",
            "6 x 8 = 48\n",
            "6 x 9 = 54\n",
            "6 x 10 = 60\n"
          ]
        }
      ]
    },
    {
      "cell_type": "code",
      "source": [
        "# 24.Write a command to get the value of this  6**4 ?\n",
        "print(6**4)\n"
      ],
      "metadata": {
        "colab": {
          "base_uri": "https://localhost:8080/"
        },
        "id": "LxjpTLoxEIhw",
        "outputId": "d7ea4ef6-2cd0-4a19-9254-6e29635f4438"
      },
      "execution_count": null,
      "outputs": [
        {
          "output_type": "stream",
          "name": "stdout",
          "text": [
            "1296\n"
          ]
        }
      ]
    },
    {
      "cell_type": "code",
      "source": [
        "# 25. What are the outputs for the code below?\n",
        "for x in [1, 2, 3]:\n",
        "  print(x-1)"
      ],
      "metadata": {
        "colab": {
          "base_uri": "https://localhost:8080/"
        },
        "id": "Gya9BuFzEY6_",
        "outputId": "57d59a5b-9321-4545-9cbe-b46bc69aefb3"
      },
      "execution_count": null,
      "outputs": [
        {
          "output_type": "stream",
          "name": "stdout",
          "text": [
            "0\n",
            "1\n",
            "2\n"
          ]
        }
      ]
    },
    {
      "cell_type": "code",
      "source": [
        "# 26. What is the output of print tuple[0] if tuple = ( 'abcd', 786 , 2.23, 'john', 70.2 )?\n",
        "Tuple = ( 'abcd', 786 , 2.23, 'john', 70.2 )\n",
        "print(Tuple[0])\n",
        "\n"
      ],
      "metadata": {
        "colab": {
          "base_uri": "https://localhost:8080/"
        },
        "id": "qKQj8MXaEqLF",
        "outputId": "cdd705ed-9333-4329-f801-71128d6c6aee"
      },
      "execution_count": null,
      "outputs": [
        {
          "output_type": "stream",
          "name": "stdout",
          "text": [
            "abcd\n"
          ]
        }
      ]
    },
    {
      "cell_type": "code",
      "source": [
        "# 27.What is the output of L[-2] if L = [1,2,3]?\n",
        "L=[1,2,3]\n",
        "print(L[-2])"
      ],
      "metadata": {
        "colab": {
          "base_uri": "https://localhost:8080/"
        },
        "id": "l3CdMmn-FP9x",
        "outputId": "727378e9-e4e9-49b8-b74d-8ccb68e3b568"
      },
      "execution_count": null,
      "outputs": [
        {
          "output_type": "stream",
          "name": "stdout",
          "text": [
            "2\n"
          ]
        }
      ]
    },
    {
      "cell_type": "code",
      "source": [
        "# 28. What will be the output of the below given code?\n",
        "colors = ['white', 'Black', 'Grey']\n",
        "x = 'Red' not in colors\n",
        "print(x)"
      ],
      "metadata": {
        "colab": {
          "base_uri": "https://localhost:8080/"
        },
        "id": "D0TmOeNAF2rl",
        "outputId": "a5060cc0-2172-4c1a-b627-0bba125b94c5"
      },
      "execution_count": null,
      "outputs": [
        {
          "output_type": "stream",
          "name": "stdout",
          "text": [
            "True\n"
          ]
        }
      ]
    },
    {
      "cell_type": "code",
      "source": [
        "# 29. Which is mutable and immutable in List and Tuple?\n",
        "# In list and tuple ,list is mutable and tuple is immutable.\n",
        "# list is mutable because it can do item assignment where as tuple can't do item assigngment.\n",
        "# list\n",
        "a=[1,2,3,4]\n",
        "a.append(5)\n",
        "print(a)\n",
        "\n",
        "# tuple\n",
        "a=(1,2,3,4)\n",
        "# tuple as no method which can do item assignment"
      ],
      "metadata": {
        "colab": {
          "base_uri": "https://localhost:8080/"
        },
        "id": "5kyqE-F17qUY",
        "outputId": "52f6bc37-39fd-4029-84db-056deb905487"
      },
      "execution_count": null,
      "outputs": [
        {
          "output_type": "stream",
          "name": "stdout",
          "text": [
            "[1, 2, 3, 4, 5]\n"
          ]
        }
      ]
    },
    {
      "cell_type": "code",
      "source": [
        "# What is the output of tiny * 3,  if tiny = [ 123, 'john' ]?\n",
        "tiny = [ 123, 'john' ]\n",
        "# A list can have all data type in the above given example the list contain\n",
        "# integer and string the out put will be 123 and john 3times.\n",
        "print(tiny*3)"
      ],
      "metadata": {
        "colab": {
          "base_uri": "https://localhost:8080/"
        },
        "id": "uHh1QOe-GCsB",
        "outputId": "b62b0283-3e52-4458-e20e-2a5480c37424"
      },
      "execution_count": null,
      "outputs": [
        {
          "output_type": "stream",
          "name": "stdout",
          "text": [
            "[123, 'john', 123, 'john', 123, 'john']\n"
          ]
        }
      ]
    },
    {
      "cell_type": "code",
      "source": [
        "# 31. Which is the function to check in a string that all characters are alphanumeric?\n",
        "# In a string to check whether all characters are alphanumeric the funtion is 'isalnum'"
      ],
      "metadata": {
        "id": "u7ImQcoYG9Dt"
      },
      "execution_count": null,
      "outputs": []
    },
    {
      "cell_type": "code",
      "source": [
        "# 32. What is the command line to get the output as ‘heshewe’?\n",
        "a = ['he', 'she', 'we']\n",
        "b=a[0]+a[1]+a[2]\n",
        "print(b)"
      ],
      "metadata": {
        "colab": {
          "base_uri": "https://localhost:8080/"
        },
        "id": "6XwS0m2k3HVr",
        "outputId": "cfabbfeb-2256-428e-cffa-ee9dd64db629"
      },
      "execution_count": null,
      "outputs": [
        {
          "output_type": "stream",
          "name": "stdout",
          "text": [
            "heshewe\n"
          ]
        }
      ]
    },
    {
      "cell_type": "code",
      "source": [
        "# 33. L = [ 1, 2, 1, [ 2, 3 ], 5 ]\n",
        "# What is the position of number 3?\n",
        "L = [ 1, 2, 1, [ 2, 3 ], 5 ]\n",
        "# if we consider the index value the position of 5 is 4\n",
        "# we can get it by using following command\n",
        "print(L[4])\n"
      ],
      "metadata": {
        "colab": {
          "base_uri": "https://localhost:8080/"
        },
        "id": "GBj-FlN6HXTm",
        "outputId": "e6afe56b-ea4a-4cd1-b225-2a1287a03ba6"
      },
      "execution_count": null,
      "outputs": [
        {
          "output_type": "stream",
          "name": "stdout",
          "text": [
            "5\n"
          ]
        }
      ]
    },
    {
      "cell_type": "code",
      "source": [
        "# 34. Calculate the total number of 9 in the below-given list? And State the predefined function to\n",
        "# calculate the number of 9’s?\n",
        "List1 = [9, 90, 99, 999, 9999]\n",
        "string = str(List1)\n",
        "string.count('9')\n"
      ],
      "metadata": {
        "colab": {
          "base_uri": "https://localhost:8080/"
        },
        "id": "rDxswLTlICxo",
        "outputId": "9a4d9406-45d5-4d9e-f31a-7bb67745df94"
      },
      "execution_count": null,
      "outputs": [
        {
          "output_type": "execute_result",
          "data": {
            "text/plain": [
              "11"
            ]
          },
          "metadata": {},
          "execution_count": 13
        }
      ]
    },
    {
      "cell_type": "code",
      "source": [
        "# 35. What is the result of this code?\n",
        "nums = [10, 9, 8, 7, 6, 5]\n",
        "nums[0] = nums[1] - 5\n",
        "if 4 in nums:\n",
        "   print(nums[3])\n",
        "else:\n",
        "   print(nums[4])"
      ],
      "metadata": {
        "colab": {
          "base_uri": "https://localhost:8080/"
        },
        "id": "bBWb4PqxIrh7",
        "outputId": "81929c10-3db2-4ce1-978e-f262493aa059"
      },
      "execution_count": null,
      "outputs": [
        {
          "output_type": "stream",
          "name": "stdout",
          "text": [
            "7\n"
          ]
        }
      ]
    },
    {
      "cell_type": "code",
      "source": [
        "# 36. What is the result of this code?\n",
        "nums = [9, 8, 7, 6, 5]\n",
        "nums.append(4)\n",
        "nums.insert(2, 11)\n",
        "print(len(nums))\n"
      ],
      "metadata": {
        "colab": {
          "base_uri": "https://localhost:8080/"
        },
        "id": "kR1jkpYFJ_Iw",
        "outputId": "c427a9d1-38e5-49dd-d545-12c5cc2ecc87"
      },
      "execution_count": null,
      "outputs": [
        {
          "output_type": "stream",
          "name": "stdout",
          "text": [
            "7\n"
          ]
        }
      ]
    },
    {
      "cell_type": "code",
      "source": [
        "# 37. What is the result of this code?\n",
        "list = [1, 1, 2, 3, 5, 8, 13]\n",
        "print(list[list[4]])"
      ],
      "metadata": {
        "colab": {
          "base_uri": "https://localhost:8080/"
        },
        "id": "kEu0XQEcMkNA",
        "outputId": "05fd588f-1ac1-4119-eb07-33f592a50f6e"
      },
      "execution_count": null,
      "outputs": [
        {
          "output_type": "stream",
          "name": "stdout",
          "text": [
            "8\n"
          ]
        }
      ]
    },
    {
      "cell_type": "code",
      "source": [
        "# 38. Which of the following is a false statement in python?\n",
        "int(144)==144\n",
        "int('144')==144\n",
        "int(144.0)==144\n",
        "  # None of the above"
      ],
      "metadata": {
        "colab": {
          "base_uri": "https://localhost:8080/"
        },
        "id": "6AL7IrBONTVW",
        "outputId": "533bb569-63a6-4b1e-b3aa-71baaff8bade"
      },
      "execution_count": null,
      "outputs": [
        {
          "output_type": "execute_result",
          "data": {
            "text/plain": [
              "True"
            ]
          },
          "metadata": {},
          "execution_count": 88
        }
      ]
    },
    {
      "cell_type": "code",
      "source": [
        "# 39. What is the output of [ 1, 2, 3 ] + [ 4, 5, 6 ] ?\n",
        "[ 1, 2, 3 ] + [ 4, 5, 6 ]"
      ],
      "metadata": {
        "colab": {
          "base_uri": "https://localhost:8080/"
        },
        "id": "yhfG83ZoNqn8",
        "outputId": "3d514f30-2283-4530-8448-960cebe01ab6"
      },
      "execution_count": null,
      "outputs": [
        {
          "output_type": "execute_result",
          "data": {
            "text/plain": [
              "[1, 2, 3, 4, 5, 6]"
            ]
          },
          "metadata": {},
          "execution_count": 89
        }
      ]
    },
    {
      "cell_type": "code",
      "source": [
        "# 40. What is the command to sort a list?\n",
        "# The command to sort a list is .sort method\n",
        "# for example:\n",
        "a=[1,23,17,4,13,7,20]\n",
        "a.sort()\n",
        "print(a)\n",
        "# it sorts according to the ascii value\n",
        "\n"
      ],
      "metadata": {
        "colab": {
          "base_uri": "https://localhost:8080/"
        },
        "id": "Pn2Aq61LN6vW",
        "outputId": "02a102d4-5f67-447d-9a8e-5daa3b6a833e"
      },
      "execution_count": null,
      "outputs": [
        {
          "output_type": "stream",
          "name": "stdout",
          "text": [
            "[1, 4, 7, 13, 17, 20, 23]\n"
          ]
        }
      ]
    },
    {
      "cell_type": "code",
      "source": [
        "# 41. Which of the following statements is used when a statement is required syntactically but you do not\n",
        "# want any command or code to execute?\n",
        "# a. break\n",
        "# b. continue\n",
        "# c. pass\n",
        "# d. None of the above.\n",
        "# answer:c"
      ],
      "metadata": {
        "id": "oSvSVP3NSgGY"
      },
      "execution_count": null,
      "outputs": []
    },
    {
      "cell_type": "code",
      "source": [
        "# what is the result of this called?\n",
        "tup  = (\"hi\", \"Python\", 2)\n",
        "print (type(tup))\n",
        "print (tup)\n",
        "print (tup[1:])\n",
        "print (tup[0:1])\n",
        "print (tup + tup)\n",
        "print (tup * 3)\n",
        "# tup[2] = \"hi\" \n",
        "# what is the updated tup?\n",
        "print(tup)\n",
        "\n"
      ],
      "metadata": {
        "colab": {
          "base_uri": "https://localhost:8080/"
        },
        "id": "k5A6bT8ZSyXX",
        "outputId": "567c1aa2-792a-4ecb-b014-5b0fa8cbf95c"
      },
      "execution_count": null,
      "outputs": [
        {
          "output_type": "stream",
          "name": "stdout",
          "text": [
            "<class 'tuple'>\n",
            "('hi', 'Python', 2)\n",
            "('Python', 2)\n",
            "('hi',)\n",
            "('hi', 'Python', 2, 'hi', 'Python', 2)\n",
            "('hi', 'Python', 2, 'hi', 'Python', 2, 'hi', 'Python', 2)\n",
            "('hi', 'Python', 2)\n"
          ]
        }
      ]
    },
    {
      "cell_type": "code",
      "source": [
        "# 43. What is the result of this code?\n",
        "for x in range(21,5,-3):\n",
        "  print(x)"
      ],
      "metadata": {
        "colab": {
          "base_uri": "https://localhost:8080/"
        },
        "id": "nmEE_g6rTkGV",
        "outputId": "cbba269f-383e-45f5-d0d5-f2b82177628d"
      },
      "execution_count": null,
      "outputs": [
        {
          "output_type": "stream",
          "name": "stdout",
          "text": [
            "21\n",
            "18\n",
            "15\n",
            "12\n",
            "9\n",
            "6\n"
          ]
        }
      ]
    },
    {
      "cell_type": "code",
      "source": [
        "# 44. What is the result of this code?\n",
        "for i in range(0,5):\n",
        "  print(i)\n",
        "  break\n"
      ],
      "metadata": {
        "colab": {
          "base_uri": "https://localhost:8080/"
        },
        "id": "fwoZRsr6TvvV",
        "outputId": "1e22d995-1d93-4fa4-80f4-49c32b5f8589"
      },
      "execution_count": null,
      "outputs": [
        {
          "output_type": "stream",
          "name": "stdout",
          "text": [
            "0\n"
          ]
        }
      ]
    },
    {
      "cell_type": "code",
      "source": [
        "# 5. Program to check whether a number is even or not.\n",
        "a=int(input('enter a number:'))\n",
        "if (a%2)==0:\n",
        "  print('it is an even number')\n",
        "else:\n",
        "  print('it is odd number')"
      ],
      "metadata": {
        "colab": {
          "base_uri": "https://localhost:8080/"
        },
        "id": "KdbogwFpUqCo",
        "outputId": "683e5492-53cd-40c5-acbd-be8e002b225a"
      },
      "execution_count": null,
      "outputs": [
        {
          "output_type": "stream",
          "name": "stdout",
          "text": [
            "enter a number:24\n",
            "it is an even number\n"
          ]
        }
      ]
    },
    {
      "cell_type": "code",
      "source": [
        "# 46. Bring this output using loops.\n",
        "# *\n",
        "# **\n",
        "# ***\n",
        "# ****\n",
        "# *****\n",
        "\n",
        "for i in range(0,6):\n",
        "  print('*'+i*'*')"
      ],
      "metadata": {
        "colab": {
          "base_uri": "https://localhost:8080/"
        },
        "id": "as0KKQD_VdM-",
        "outputId": "b8c8bdd8-aa26-4b22-fbed-155913d8f0ab"
      },
      "execution_count": null,
      "outputs": [
        {
          "output_type": "stream",
          "name": "stdout",
          "text": [
            "*\n",
            "**\n",
            "***\n",
            "****\n",
            "*****\n",
            "******\n"
          ]
        }
      ]
    },
    {
      "cell_type": "code",
      "source": [
        "# 47. Write a Python program to get the Python version you are using?\n",
        "import sys\n",
        "print('python version')\n",
        "print(sys.version)\n",
        "print('version info.')\n",
        "print(sys.version_info)"
      ],
      "metadata": {
        "colab": {
          "base_uri": "https://localhost:8080/"
        },
        "id": "V__URB8IV7JA",
        "outputId": "0b0d2db6-31bf-4d01-a4cd-0b54378f6cb3"
      },
      "execution_count": null,
      "outputs": [
        {
          "output_type": "stream",
          "name": "stdout",
          "text": [
            "python version\n",
            "3.7.14 (default, Sep  8 2022, 00:06:44) \n",
            "[GCC 7.5.0]\n",
            "version info.\n",
            "sys.version_info(major=3, minor=7, micro=14, releaselevel='final', serial=0)\n"
          ]
        }
      ]
    },
    {
      "cell_type": "code",
      "source": [
        "# 48. Write a python program to find prime numbers within a given interval?\n",
        "# To take input from the user\n",
        "num = int(input(\"Enter a number: \"))\n",
        "# define a flag variable\n",
        "flag = False\n",
        "# prime numbers are greater than 1\n",
        "if num > 1:\n",
        "# check for factors\n",
        "  for i in range(2, num):\n",
        "    if (num % i) == 0:\n",
        "# if factor is found, set flag to True\n",
        "      flag = True\n",
        "# break out of loop\n",
        "      break\n",
        "# check if flag is True\n",
        "if flag:\n",
        " print(num, \"is not a prime number\")\n",
        "else:\n",
        " print(num, \"is a prime number\")\n"
      ],
      "metadata": {
        "id": "nTWUbpyEWAuS"
      },
      "execution_count": null,
      "outputs": []
    },
    {
      "cell_type": "code",
      "source": [
        "# 49. Find the cube root of a number in python programming?\n",
        "a = int(input('enter a number:'))\n",
        "print('the cuberoot of no. is :',a**(1/3))"
      ],
      "metadata": {
        "colab": {
          "base_uri": "https://localhost:8080/"
        },
        "id": "TkR10zjrWMd7",
        "outputId": "76731127-d623-40d2-9939-fbe478d6d400"
      },
      "execution_count": null,
      "outputs": [
        {
          "output_type": "stream",
          "name": "stdout",
          "text": [
            "enter a number:27\n",
            "the cuberoot of no. is : 3.0\n"
          ]
        }
      ]
    },
    {
      "cell_type": "code",
      "source": [
        "# 50. Write a Python program that will accept the base and height of a triangle and compute the area?\n",
        "b=int(input('enter the value of base:'))\n",
        "h=int(input('enter the value of height'))\n",
        "print('the area of triangle is :',0.5*b*h)"
      ],
      "metadata": {
        "colab": {
          "base_uri": "https://localhost:8080/"
        },
        "id": "uVNs_BCUXb2P",
        "outputId": "87e89c13-8dc4-4942-fee2-d908651b89f4"
      },
      "execution_count": null,
      "outputs": [
        {
          "output_type": "stream",
          "name": "stdout",
          "text": [
            "enter the value of base:12\n",
            "enter the value of height24\n",
            "the area of triangle is : 144.0\n"
          ]
        }
      ]
    },
    {
      "cell_type": "code",
      "source": [
        "# 51. Write a Python program to solve (x + y) * (x + y)?\n",
        "x=int(input('enter the value of x:'))\n",
        "y=int(input('enter the value of y:'))\n",
        "print((x+y)*(x+y))"
      ],
      "metadata": {
        "colab": {
          "base_uri": "https://localhost:8080/"
        },
        "id": "pTK78soAYRKk",
        "outputId": "53e8c37c-2295-40fa-dc94-ab039074177a"
      },
      "execution_count": null,
      "outputs": [
        {
          "output_type": "stream",
          "name": "stdout",
          "text": [
            "enter the value of x:10\n",
            "enter the value of y:10\n",
            "400\n"
          ]
        }
      ]
    },
    {
      "cell_type": "code",
      "source": [
        "# 52. Write a Python program to calculate the sum of three given numbers, if the values are equal then\n",
        "# return thrice of their sum?\n",
        "a=int(input('enter a value:'))\n",
        "b=int(input('enter a value:'))\n",
        "c=int(input('enter a value:'))\n",
        "if (a==b==c):\n",
        "  print('as all are equal:',3*(a+b+c))\n",
        "else:\n",
        "  print('the sum of three numbers is:',a+b+c)"
      ],
      "metadata": {
        "colab": {
          "base_uri": "https://localhost:8080/"
        },
        "id": "CHWJfGRKZEQn",
        "outputId": "7d1a2a47-59fe-4588-a06e-1c1c28c010f6"
      },
      "execution_count": null,
      "outputs": [
        {
          "output_type": "stream",
          "name": "stdout",
          "text": [
            "enter a value:2\n",
            "enter a value:2\n",
            "enter a value:2\n",
            "as all are equal: 18\n"
          ]
        }
      ]
    },
    {
      "cell_type": "code",
      "source": [
        "# 53. Write a Python program to compute the distance between the points (x1, y1) and (x2, y2)?\n",
        "x1=int(input('take the value of x1:'))\n",
        "y1=int(input('take the value of y1:'))\n",
        "x2=int(input('take the value of x2:'))\n",
        "y2=int(input('take the value of y2:'))\n",
        "a=[x1,y1]\n",
        "print(a)\n",
        "b=[x2,y2]\n",
        "print(b)\n",
        "for i in a,b:\n",
        "  print('the distance between the two points is :',((x2-x1)**2 + (y2-y1)**2)**(1/2))\n",
        "  break"
      ],
      "metadata": {
        "id": "9giDKXq5agCB"
      },
      "execution_count": null,
      "outputs": []
    },
    {
      "cell_type": "code",
      "source": [
        "# 54. Write a Python program to calculate body mass index?\n",
        "print('BODY MASS INDEX')\n",
        "HEIGHT =float(input('what is your height(in meters):'))   #1cm = 0.0001m**2\n",
        "WEIGHT =float(input('what is your weight (in kilogram):'))\n",
        "BMI=(WEIGHT/HEIGHT**2) \n",
        "print('your body mass index is :',BMI)\n",
        "if (BMI<18.5):\n",
        "  print('you are under weight')\n",
        "elif (BMI in range(18,26)):\n",
        "  print('you have healthy weight')\n",
        "elif (BMI in range(26,31)):\n",
        "  print('you are overweight')\n",
        "else :\n",
        "  print('you are obese')\n"
      ],
      "metadata": {
        "colab": {
          "base_uri": "https://localhost:8080/"
        },
        "id": "-qmns4uvbkPT",
        "outputId": "87af615d-bd70-4f16-f6be-2899523664fb"
      },
      "execution_count": null,
      "outputs": [
        {
          "output_type": "stream",
          "name": "stdout",
          "text": [
            "BODY MASS INDEX\n",
            "what is your height(in meters):1.6\n",
            "what is your weight (in kilogram):62\n",
            "your body mass index is : 24.218749999999996\n",
            "you are obese\n"
          ]
        }
      ]
    },
    {
      "cell_type": "code",
      "source": [
        "# 55. Write a Python program to filter the positive numbers from a list?\n",
        "a=[1,-2,-34,-4,3,4,8,34]\n",
        "for i in a:\n",
        "  if (i>0):\n",
        "    print(i)"
      ],
      "metadata": {
        "id": "ant650TOcMmE"
      },
      "execution_count": null,
      "outputs": []
    },
    {
      "cell_type": "code",
      "source": [
        "# 56. Write a Python program to test if a variable is a list or tuple or a set?\n",
        "a = {'tuple', False, 3.2, 1}\n",
        "if type(a) is list:\n",
        "    print('a is an list')\n",
        "elif type(a) is set:\n",
        "    print('a is an set')\n",
        "elif type(a) is tuple:\n",
        "    print('a is an tuple')\n",
        "else:\n",
        "    print('Neither a list or a set or a tuple.')"
      ],
      "metadata": {
        "id": "FYuQSJRPdCbR"
      },
      "execution_count": null,
      "outputs": []
    },
    {
      "cell_type": "code",
      "source": [
        "# 57. Write a Python program to check if a number is positive, negative or zero?\n",
        "a=int(input('enter the a number'))\n",
        "if a>0 :\n",
        "  print('it is a positive number')\n",
        "elif a==0 :\n",
        "  print('it is zero')\n",
        "else :\n",
        "  print('it is a negetive number')\n"
      ],
      "metadata": {
        "colab": {
          "base_uri": "https://localhost:8080/"
        },
        "id": "-Sbfqg8tdUCo",
        "outputId": "e0ca9b20-6881-48e5-907a-7565db002b8d"
      },
      "execution_count": null,
      "outputs": [
        {
          "output_type": "stream",
          "name": "stdout",
          "text": [
            "enter the a number-23\n",
            "it is a negetive number\n"
          ]
        }
      ]
    },
    {
      "cell_type": "code",
      "source": [
        "# 58. Write a Python program to test whether a passed letter is a vowel or not?\n",
        "letter = input('enter a letter:')\n",
        "vowels=['a','e','i','o','u','A','E','I','O','U']\n",
        "if letter in vowels:\n",
        "  print('it is a vowel')\n",
        "else :\n",
        "  print('it is not a vowel')"
      ],
      "metadata": {
        "colab": {
          "base_uri": "https://localhost:8080/"
        },
        "id": "1BzMVfuidUmn",
        "outputId": "c470e888-e831-4c92-eec0-08d4c38dd996"
      },
      "execution_count": null,
      "outputs": [
        {
          "output_type": "stream",
          "name": "stdout",
          "text": [
            "enter a letter:a\n",
            "it is a vowel\n"
          ]
        }
      ]
    },
    {
      "cell_type": "code",
      "source": [
        "#59. Write a program to display the multiplication table of a given number?\n",
        "a=int(input('enter a number:'))\n",
        "for i in range(1,11):\n",
        "  print(a,'x',i,'=',a*i)"
      ],
      "metadata": {
        "colab": {
          "base_uri": "https://localhost:8080/"
        },
        "id": "Z6W85GXXduXX",
        "outputId": "66e0e86f-9efc-4e17-d1f4-c0582ca8a936"
      },
      "execution_count": null,
      "outputs": [
        {
          "output_type": "stream",
          "name": "stdout",
          "text": [
            "enter a number:3\n",
            "3 x 1 = 3\n",
            "3 x 2 = 6\n",
            "3 x 3 = 9\n",
            "3 x 4 = 12\n",
            "3 x 5 = 15\n",
            "3 x 6 = 18\n",
            "3 x 7 = 21\n",
            "3 x 8 = 24\n",
            "3 x 9 = 27\n",
            "3 x 10 = 30\n"
          ]
        }
      ]
    },
    {
      "cell_type": "code",
      "source": [
        "# 60. Write a program to add two matrices using loops?\n",
        "X = [[1,2,3],\n",
        "    [4 ,5,6],\n",
        "    [7 ,8,9]]\n",
        "Y = [[9,8,7],\n",
        "    [6,5,4],\n",
        "    [3,2,1]]\n",
        "result = [[0,0,0],\n",
        "        [0,0,0],\n",
        "        [0,0,0]]\n",
        "# iterate through rows\n",
        "for i in range(len(X)):\n",
        "# iterate through columns\n",
        "    for j in range(len(X[0])):\n",
        "        result[i][j] = X[i][j] + Y[i][j]\n",
        "for r in result:\n",
        "    print(r)"
      ],
      "metadata": {
        "colab": {
          "base_uri": "https://localhost:8080/"
        },
        "id": "RI9NQsj5uxlU",
        "outputId": "3c845a46-4e32-4fcf-df01-fcafff0ecdf1"
      },
      "execution_count": null,
      "outputs": [
        {
          "output_type": "stream",
          "name": "stdout",
          "text": [
            "[10, 10, 10]\n",
            "[10, 10, 10]\n",
            "[10, 10, 10]\n"
          ]
        }
      ]
    },
    {
      "cell_type": "code",
      "source": [],
      "metadata": {
        "id": "cl-8lMtDwcQK"
      },
      "execution_count": null,
      "outputs": []
    }
  ]
}