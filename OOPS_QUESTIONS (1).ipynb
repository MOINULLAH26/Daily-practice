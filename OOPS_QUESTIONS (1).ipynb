{
  "nbformat": 4,
  "nbformat_minor": 0,
  "metadata": {
    "colab": {
      "provenance": []
    },
    "kernelspec": {
      "name": "python3",
      "display_name": "Python 3"
    },
    "language_info": {
      "name": "python"
    }
  },
  "cells": [
    {
      "cell_type": "code",
      "execution_count": null,
      "metadata": {
        "id": "s092oMv-P8GE"
      },
      "outputs": [],
      "source": [
        "#1Q creating a class to check whether a given number is odd or even?\n",
        "\n",
        "class Numbers :\n",
        "  def __init__(self) :\n",
        "    print('check number is even or odd')\n",
        "  def num(self,a):\n",
        "    self.a=a\n",
        "    if (a%2)==0 :\n",
        "      print(f'{self.a}is an even number')\n",
        "    else:\n",
        "      print(f'{self.a} is an odd number')\n"
      ]
    },
    {
      "cell_type": "code",
      "source": [
        "obj= Numbers()\n",
        "obj.num(5)"
      ],
      "metadata": {
        "colab": {
          "base_uri": "https://localhost:8080/"
        },
        "id": "q7QGOwC-SYr4",
        "outputId": "2b38099f-b54f-4e0d-9463-b1e44b68514d"
      },
      "execution_count": null,
      "outputs": [
        {
          "output_type": "stream",
          "name": "stdout",
          "text": [
            "check number is even or odd\n",
            "5 is an odd number\n"
          ]
        }
      ]
    },
    {
      "cell_type": "code",
      "source": [
        "#2Q create a class to show whether a number is prime or not?\n",
        "\n",
        "class Prime :\n",
        "  def __init__(self):\n",
        "    print('check whether prime or not')\n",
        "  def num(self,a):\n",
        "    self.a=a\n",
        "    if a==0 or a==1 :\n",
        "        print(f'{self.a} is neither composite nor prime')\n",
        "    for i in range(2,a):\n",
        "      if a%i==0 :\n",
        "        print(f'{self.a}is not a prime')\n",
        "        break\n",
        "      else:\n",
        "        print(f'{self.a} is a prime number')\n",
        "        break\n",
        "\n"
      ],
      "metadata": {
        "id": "hxsB3Gg6VCY2"
      },
      "execution_count": null,
      "outputs": []
    },
    {
      "cell_type": "code",
      "source": [
        "obj = Prime()\n",
        "obj.num(11)"
      ],
      "metadata": {
        "colab": {
          "base_uri": "https://localhost:8080/"
        },
        "id": "r8QPGzEfY3K2",
        "outputId": "b2b39ef3-fb99-4a6d-aef1-f1455ae86a31"
      },
      "execution_count": null,
      "outputs": [
        {
          "output_type": "stream",
          "name": "stdout",
          "text": [
            "check whether prime or not\n",
            "11 is a prime number\n"
          ]
        }
      ]
    },
    {
      "cell_type": "code",
      "source": [
        "# 3Q create a class to see whether the year is leap year or not?\n",
        "\n",
        "class Year :\n",
        "  def __init__(self):\n",
        "    print('check whether a year is leap year or not')\n",
        "  def yr(self,a):\n",
        "    self.a = a\n",
        "    if (a%4==0) and (a%100!=0) or (a%400==0):\n",
        "      print(f'{self.a} is a leap year')\n",
        "    else :\n",
        "      print(f'{self.a} is not a leap year')\n",
        "      "
      ],
      "metadata": {
        "id": "Aiyn5g9RcZfV"
      },
      "execution_count": null,
      "outputs": []
    },
    {
      "cell_type": "code",
      "source": [
        "obj = Year()\n",
        "obj.yr(2024)"
      ],
      "metadata": {
        "colab": {
          "base_uri": "https://localhost:8080/"
        },
        "id": "9VQAtiqPgHlf",
        "outputId": "c6094888-87a6-4599-8938-810eb82973be"
      },
      "execution_count": null,
      "outputs": [
        {
          "output_type": "stream",
          "name": "stdout",
          "text": [
            "check whether a year is leap year or not\n",
            "2024 is a leap year\n"
          ]
        }
      ]
    },
    {
      "cell_type": "code",
      "source": [
        "# Q4 create a class to print a table?\n",
        "\n",
        "class Table :\n",
        "  def __init__(self):\n",
        "    print('The multiplicaton table of given no. is')\n",
        "  def tb(self,a):\n",
        "    self.a=a\n",
        "    for i in range(1,11):\n",
        "      print(f'{a}x{i}={a*i}')\n"
      ],
      "metadata": {
        "id": "Fhj6u9Pggski"
      },
      "execution_count": null,
      "outputs": []
    },
    {
      "cell_type": "code",
      "source": [
        "obj = Table()\n",
        "obj.tb(5)"
      ],
      "metadata": {
        "colab": {
          "base_uri": "https://localhost:8080/"
        },
        "id": "B6OaA_7BirM2",
        "outputId": "aa7a2671-8f30-4d03-dea3-6af10df94621"
      },
      "execution_count": null,
      "outputs": [
        {
          "output_type": "stream",
          "name": "stdout",
          "text": [
            "The multiplicaton table of given no. is\n",
            "5x1=5\n",
            "5x2=10\n",
            "5x3=15\n",
            "5x4=20\n",
            "5x5=25\n",
            "5x6=30\n",
            "5x7=35\n",
            "5x8=40\n",
            "5x9=45\n",
            "5x10=50\n"
          ]
        }
      ]
    },
    {
      "cell_type": "code",
      "source": [
        "#Q4 create a class to print multiple tables?\n",
        "\n",
        "class Tables:\n",
        "  def __init__(self,a,b):\n",
        "    self.a=a\n",
        "    self.b=b\n",
        "    print(f'the multiple table in range of {self.a} and {self.b}')\n",
        "  def tbs(self,a,b):\n",
        "    self.a=a\n",
        "    self.b=b\n",
        "    for i in range(a,b+1):\n",
        "      for j in range(1,11):\n",
        "        print(f'{i}x{j}={i*j}')\n",
        "        \n",
        "\n"
      ],
      "metadata": {
        "id": "b2MrduOCjBCc"
      },
      "execution_count": null,
      "outputs": []
    },
    {
      "cell_type": "code",
      "source": [
        "obj = Tables(2,6)\n",
        "obj.tbs(2,6)"
      ],
      "metadata": {
        "colab": {
          "base_uri": "https://localhost:8080/"
        },
        "id": "Yh-ZtxQBlvJU",
        "outputId": "8b713f31-f5c0-4d54-ae3e-c2bd53033ff6"
      },
      "execution_count": null,
      "outputs": [
        {
          "output_type": "stream",
          "name": "stdout",
          "text": [
            "the multiple table in range of 2 and 6\n",
            "2x1=2\n",
            "2x2=4\n",
            "2x3=6\n",
            "2x4=8\n",
            "2x5=10\n",
            "2x6=12\n",
            "2x7=14\n",
            "2x8=16\n",
            "2x9=18\n",
            "2x10=20\n",
            "3x1=3\n",
            "3x2=6\n",
            "3x3=9\n",
            "3x4=12\n",
            "3x5=15\n",
            "3x6=18\n",
            "3x7=21\n",
            "3x8=24\n",
            "3x9=27\n",
            "3x10=30\n",
            "4x1=4\n",
            "4x2=8\n",
            "4x3=12\n",
            "4x4=16\n",
            "4x5=20\n",
            "4x6=24\n",
            "4x7=28\n",
            "4x8=32\n",
            "4x9=36\n",
            "4x10=40\n",
            "5x1=5\n",
            "5x2=10\n",
            "5x3=15\n",
            "5x4=20\n",
            "5x5=25\n",
            "5x6=30\n",
            "5x7=35\n",
            "5x8=40\n",
            "5x9=45\n",
            "5x10=50\n",
            "6x1=6\n",
            "6x2=12\n",
            "6x3=18\n",
            "6x4=24\n",
            "6x5=30\n",
            "6x6=36\n",
            "6x7=42\n",
            "6x8=48\n",
            "6x9=54\n",
            "6x10=60\n"
          ]
        }
      ]
    },
    {
      "cell_type": "code",
      "source": [
        "#q5 create a class whether the given number is 3digit or not?\n",
        "\n",
        "class Digits :\n",
        "  def __init__(self):\n",
        "    print('The given no. is :')\n",
        "  def dgt(self,a):\n",
        "    self.a=a\n",
        "    count=0\n",
        "    for i in str(a):\n",
        "      count=count+1\n",
        "    print(f'The given {a} is {count} digit number')\n"
      ],
      "metadata": {
        "id": "CzZCJecWmKM8"
      },
      "execution_count": null,
      "outputs": []
    },
    {
      "cell_type": "code",
      "source": [
        "obj = Digits()\n",
        "obj.dgt(1234567892345678)"
      ],
      "metadata": {
        "colab": {
          "base_uri": "https://localhost:8080/"
        },
        "id": "so7N7r97oSqG",
        "outputId": "44111d24-10d8-44dc-fb9c-f84be1cfd8ae"
      },
      "execution_count": null,
      "outputs": [
        {
          "output_type": "stream",
          "name": "stdout",
          "text": [
            "The given no. is :\n",
            "The given 1234567892345678 is 16 digit number\n"
          ]
        }
      ]
    },
    {
      "cell_type": "code",
      "source": [
        "# Q6 create a class to check whether the given no. is three digit?\n",
        "\n",
        "class Threedigit :\n",
        "  def __init__(self,a):\n",
        "    self.a=a\n",
        "    print(f'The given number is {self.a} ')\n",
        "  def three(self,a):\n",
        "    self.a=a\n",
        "    if (a>100) and (a<1000):\n",
        "      print(f'{a} is a three digit')\n",
        "    else :\n",
        "      print(f'{a} is not a three digit number')\n"
      ],
      "metadata": {
        "id": "7MMqOCREonkq"
      },
      "execution_count": null,
      "outputs": []
    },
    {
      "cell_type": "code",
      "source": [
        "obj = Threedigit(2340)\n",
        "obj.three(2340)"
      ],
      "metadata": {
        "colab": {
          "base_uri": "https://localhost:8080/"
        },
        "id": "Iuhj06V7qgx6",
        "outputId": "8d51b7a7-802b-4eca-9053-6c796d59fc00"
      },
      "execution_count": null,
      "outputs": [
        {
          "output_type": "stream",
          "name": "stdout",
          "text": [
            "The given number is 2340 \n",
            "2340 is not a three digit number\n"
          ]
        }
      ]
    },
    {
      "cell_type": "code",
      "source": [
        "#Q7 write a program that prints the number from 1 to 100 and for multiples of '3' print \"fizz\" instead of \n",
        "# the number and for the multiple of '5' print \"buzz\"\n",
        "\n",
        "class M35 :\n",
        "  def __init__(self,a,b):\n",
        "    self.a=a\n",
        "    self.b=b\n",
        "    print(f'the given range is from {a} to {b}')\n",
        "  def m35(self,a,b):\n",
        "    self.a=a\n",
        "    self.b=b\n",
        "    for i in range(a,b+1):\n",
        "      if ((i%3)==0):\n",
        "        print('fizz')\n",
        "      elif ((i%5)==0):\n",
        "        print('buzz')\n",
        "      else:\n",
        "        print(i)\n",
        "\n"
      ],
      "metadata": {
        "id": "RYA2Pyhcqxb5"
      },
      "execution_count": null,
      "outputs": []
    },
    {
      "cell_type": "code",
      "source": [
        "obj=M35(1,20)\n",
        "obj.m35(1,20)"
      ],
      "metadata": {
        "colab": {
          "base_uri": "https://localhost:8080/"
        },
        "id": "27qsX7M4smB0",
        "outputId": "173b1008-0a5b-4370-f200-c962155397c6"
      },
      "execution_count": null,
      "outputs": [
        {
          "output_type": "stream",
          "name": "stdout",
          "text": [
            "the given range is from 1 to 20\n",
            "1\n",
            "2\n",
            "fizz\n",
            "4\n",
            "buzz\n",
            "fizz\n",
            "7\n",
            "8\n",
            "fizz\n",
            "buzz\n",
            "11\n",
            "fizz\n",
            "13\n",
            "14\n",
            "fizz\n",
            "16\n",
            "17\n",
            "fizz\n",
            "19\n",
            "buzz\n"
          ]
        }
      ]
    },
    {
      "cell_type": "code",
      "source": [
        "# 8)wap to calculate scalene, issoseles based on triangle\n",
        "class Triangle:\n",
        "  def __init__(self,length,height,base):\n",
        "    self.height=height\n",
        "    self.base=base\n",
        "    self.length=length\n",
        "  def scalene(self,length,base,height):\n",
        "    if (length != base != height):\n",
        "      print('scalene triangle')\n",
        "    else:\n",
        "      print('invalid angles')\n",
        "  def issoseles(self,length,base,height):\n",
        "    if (length==base!=height) or (base==height!=length) or (height==base!=length):\n",
        "      print('issoseles triangle')\n",
        "    else:\n",
        "      print('invalid angles')"
      ],
      "metadata": {
        "id": "o3BvZ0-ls_Do"
      },
      "execution_count": 7,
      "outputs": []
    },
    {
      "cell_type": "code",
      "source": [
        "clso = Triangle(10,5,7)\n",
        "clso.scalene(10,5,7)"
      ],
      "metadata": {
        "colab": {
          "base_uri": "https://localhost:8080/"
        },
        "id": "ArCBSlbMF4EH",
        "outputId": "f0c9fd86-4a85-4a2a-d9c3-83a7af9fc45b"
      },
      "execution_count": 9,
      "outputs": [
        {
          "output_type": "stream",
          "name": "stdout",
          "text": [
            "scalene triangle\n"
          ]
        }
      ]
    },
    {
      "cell_type": "code",
      "source": [
        "# 9) Write a program to find the Sum of Array Elements.\n",
        "class Sum_of_array:\n",
        "  def __init__(self,begans,ends):\n",
        "    self.begans=begans\n",
        "    self.ends=ends\n",
        "  def add_array(self,begans,ends):\n",
        "    begans = 0\n",
        "    for i in range(1,ends+1):\n",
        "      begans = begans+i\n",
        "    print(begans)"
      ],
      "metadata": {
        "id": "Q2Xab0_wECqd"
      },
      "execution_count": 5,
      "outputs": []
    },
    {
      "cell_type": "code",
      "source": [
        "cls = Sum_of_array(1,20)\n",
        "cls.add_array(1,20)\n"
      ],
      "metadata": {
        "colab": {
          "base_uri": "https://localhost:8080/"
        },
        "id": "lOAnLbi2FWcv",
        "outputId": "5b16ec3b-6114-4010-946b-011b665a6325"
      },
      "execution_count": 6,
      "outputs": [
        {
          "output_type": "stream",
          "name": "stdout",
          "text": [
            "210\n"
          ]
        }
      ]
    },
    {
      "cell_type": "code",
      "source": [
        "# 10) Write a program to check whether a number is a positive number or negative number\n",
        "class Check:\n",
        "  def __init__(self,number):\n",
        "    self.number=number\n",
        "  def num(self,number):\n",
        "    if number > 0:\n",
        "      print('is positive')\n",
        "    else:\n",
        "      print('is negative')"
      ],
      "metadata": {
        "id": "G6VQl3sBEJZd"
      },
      "execution_count": 1,
      "outputs": []
    },
    {
      "cell_type": "code",
      "source": [
        "cls = Check(-23)\n",
        "cls.num(-23)"
      ],
      "metadata": {
        "colab": {
          "base_uri": "https://localhost:8080/"
        },
        "id": "zLm3DOdRERe1",
        "outputId": "92167d2a-0d94-4cc4-fefd-2f15793327ff"
      },
      "execution_count": 3,
      "outputs": [
        {
          "output_type": "stream",
          "name": "stdout",
          "text": [
            "is negative\n"
          ]
        }
      ]
    }
  ]
}