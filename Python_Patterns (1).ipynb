{
  "nbformat": 4,
  "nbformat_minor": 0,
  "metadata": {
    "colab": {
      "provenance": []
    },
    "kernelspec": {
      "name": "python3",
      "display_name": "Python 3"
    },
    "language_info": {
      "name": "python"
    }
  },
  "cells": [
    {
      "cell_type": "markdown",
      "source": [
        "### patterns"
      ],
      "metadata": {
        "id": "MTeJnnkiOX_K"
      }
    },
    {
      "cell_type": "code",
      "source": [
        "#1.  print the patterns\n",
        "#          * * * * *\n",
        "#          * * * *\n",
        "#          * * * \n",
        "#          * *\n",
        "#          *\n",
        "\n",
        "\n",
        "# for loop\n",
        "for i in range(5,0,-1):\n",
        "  print(i*' *')\n",
        "\n",
        "\n",
        "#  while loop\n",
        "i=5\n",
        "while i in range(5,0,-1):\n",
        "  print(i*' *')\n",
        "  i-=1\n",
        "\n",
        "# using funtion\n",
        "\n",
        "def stars(a):\n",
        "  star = 5\n",
        "  for i in range(star,0,-1):\n",
        "    print(i*' *') \n",
        "\n",
        "stars(1)"
      ],
      "metadata": {
        "colab": {
          "base_uri": "https://localhost:8080/"
        },
        "id": "6VdN9LvrOhci",
        "outputId": "544cc990-e837-46d7-9d92-92ad97c6e7f5"
      },
      "execution_count": null,
      "outputs": [
        {
          "output_type": "stream",
          "name": "stdout",
          "text": [
            " * * * * *\n",
            " * * * *\n",
            " * * *\n",
            " * *\n",
            " *\n",
            " * * * * *\n",
            " * * * *\n",
            " * * *\n",
            " * *\n",
            " *\n",
            " * * * * *\n",
            " * * * *\n",
            " * * *\n",
            " * *\n",
            " *\n"
          ]
        }
      ]
    },
    {
      "cell_type": "code",
      "source": [
        "2.\n",
        "#    *\n",
        "#   **\n",
        "#  ***\n",
        "# ****\n",
        "#*****\n",
        "\n",
        "# for loop\n",
        "\n",
        "j=4\n",
        "for i in range(1,6):\n",
        "  print((' '*j)+(i*'*'))\n",
        "  j-=1\n",
        "\n",
        "# while loop\n",
        "i=1\n",
        "j=4\n",
        "while i in range(1,6):\n",
        "  print((' '*j)+(i*'*'))\n",
        "  j-=1\n",
        "  i+=1\n",
        "\n",
        "\n",
        "\n",
        "# def function\n",
        "\n",
        "def pat3():\n",
        "  j=4\n",
        "  for i in range(1,6):\n",
        "    print((' '*j)+(i*'*'))\n",
        "    j-=1\n",
        "\n",
        "pat3()\n",
        "\n"
      ],
      "metadata": {
        "colab": {
          "base_uri": "https://localhost:8080/"
        },
        "id": "PFrtxlvRPAPP",
        "outputId": "0c61e640-a8bb-4008-acf5-f72e0edc32a8"
      },
      "execution_count": null,
      "outputs": [
        {
          "output_type": "stream",
          "name": "stdout",
          "text": [
            "    *\n",
            "   **\n",
            "  ***\n",
            " ****\n",
            "*****\n",
            "    *\n",
            "   **\n",
            "  ***\n",
            " ****\n",
            "*****\n",
            "    *\n",
            "   **\n",
            "  ***\n",
            " ****\n",
            "*****\n"
          ]
        }
      ]
    },
    {
      "cell_type": "code",
      "source": [
        "# 3.\n",
        "#     *\n",
        "#    ***\n",
        "#   *****\n",
        "#  *******\n",
        "# *********\n",
        "# for loop \n",
        "star = 10\n",
        "space = 4\n",
        "\n",
        "for i in range(1,star,2):\n",
        "  print((' '*space)+('*'*i))\n",
        "  space = space-1\n",
        "\n",
        "#  while loop\n",
        "i=1\n",
        "j=4\n",
        "while i in range(1,10):\n",
        "    print((' '*j)+(i*'*'))\n",
        "    i+=2\n",
        "    j-=1  \n",
        "\n",
        "# using def funtion\n",
        "def pat1():\n",
        "  j=4\n",
        "  for i in range(1,10,2):\n",
        "    print((' '*j)+(i*'*'))\n",
        "    j=j-1\n",
        "\n",
        "pat1()\n"
      ],
      "metadata": {
        "colab": {
          "base_uri": "https://localhost:8080/"
        },
        "id": "cnAZQnpAPF0P",
        "outputId": "89220c25-a8f4-4fc1-d04b-f3fdf1f2ac28"
      },
      "execution_count": null,
      "outputs": [
        {
          "output_type": "stream",
          "name": "stdout",
          "text": [
            "    *\n",
            "   ***\n",
            "  *****\n",
            " *******\n",
            "*********\n",
            "    *\n",
            "   ***\n",
            "  *****\n",
            " *******\n",
            "*********\n",
            "    *\n",
            "   ***\n",
            "  *****\n",
            " *******\n",
            "*********\n"
          ]
        }
      ]
    },
    {
      "cell_type": "code",
      "source": [
        "# 4.\n",
        "# *********\n",
        "#  ******* \n",
        "#   *****  \n",
        "#    ***   \n",
        "#     *\n",
        "\n",
        "\n",
        "# for loop\n",
        "j=1\n",
        "for i in range(9,0,-2):\n",
        "  print((' '*j)+(i*'*'))\n",
        "  j+=1\n",
        "\n",
        "# while loop\n",
        "i=9\n",
        "j=1\n",
        "while i in range(9,0,-1):\n",
        "    print((' '*j)+(i*'*'))\n",
        "    i-=2\n",
        "    j+=1\n",
        "\n",
        "# using def funtion\n",
        "def pat2():\n",
        "  j=1\n",
        "  for i in range(9,0,-2):\n",
        "    print((' '*j)+(i*'*'))\n",
        "    j+=1\n",
        "pat2()"
      ],
      "metadata": {
        "colab": {
          "base_uri": "https://localhost:8080/"
        },
        "id": "eIfJjuq5PKKq",
        "outputId": "3602ca5b-47a7-464f-ee28-4bfbebced2e6"
      },
      "execution_count": null,
      "outputs": [
        {
          "output_type": "stream",
          "name": "stdout",
          "text": [
            " *********\n",
            "  *******\n",
            "   *****\n",
            "    ***\n",
            "     *\n"
          ]
        }
      ]
    },
    {
      "cell_type": "code",
      "source": [
        "# 5.\n",
        "# 1\n",
        "# 11\n",
        "# 111\n",
        "# 1111\n",
        "# 11111\n",
        "\n",
        "# for loop\n",
        "\n",
        "for i in range(1,6):\n",
        "  print('1'*i)\n",
        "\n",
        "# while loop\n",
        "\n",
        "i=1\n",
        "while i in range(1,6):\n",
        "  print('1'*i)\n",
        "  i+=1\n",
        "\n",
        "# using def funtion\n",
        "\n",
        "def pat4():\n",
        "  for i in range(1,6):\n",
        "    print('1'*i)\n",
        "pat4()"
      ],
      "metadata": {
        "colab": {
          "base_uri": "https://localhost:8080/"
        },
        "id": "f4d7NM-Tk8nk",
        "outputId": "5b13a6df-f911-4c5e-c0e0-7ea466946c66"
      },
      "execution_count": null,
      "outputs": [
        {
          "output_type": "stream",
          "name": "stdout",
          "text": [
            "1\n",
            "11\n",
            "111\n",
            "1111\n",
            "11111\n",
            "1\n",
            "11\n",
            "111\n",
            "1111\n",
            "11111\n",
            "1\n",
            "11\n",
            "111\n",
            "1111\n",
            "11111\n"
          ]
        }
      ]
    },
    {
      "cell_type": "code",
      "source": [
        "# 6.\n",
        "# 1\n",
        "# 12\n",
        "# 123 \n",
        "# 1234\n",
        "# 12345\n",
        "# 123456\n",
        "# 1234567\n",
        "# 12345678\n",
        "\n",
        "# for loop\n",
        "\n",
        "# rows = int(input('enter the number of rows:')\n",
        "# for i in range(0,rows):\n",
        "#   a=1\n",
        "#   for j in range(i+1):\n",
        "#     print(a,end=\"\")\n",
        "#     a+=1\n",
        "#   print()\n",
        "\n",
        "\n",
        "# while loop\n",
        "\n",
        "# i=0\n",
        "# while i in range(0,rows):\n",
        "#    a=1\n",
        "#    while j in range(i+1):\n",
        "#      print(j,end='')\n",
        "#      i+=1\n",
        "#      a+=1\n",
        "\n",
        "# using def function\n",
        "row = int(input('enter the number of rows:'))\n",
        "def pat5():\n",
        "  for i in range(0,row):\n",
        "    a=1\n",
        "    for j in range(i+1):\n",
        "      print(a,end='')\n",
        "      a+=1\n",
        "    print()\n",
        "\n",
        "pat5()\n",
        "\n"
      ],
      "metadata": {
        "colab": {
          "base_uri": "https://localhost:8080/"
        },
        "id": "ECxeSJyZmtl8",
        "outputId": "c81edcc7-66aa-4437-e608-50be9642c975"
      },
      "execution_count": null,
      "outputs": [
        {
          "output_type": "stream",
          "name": "stdout",
          "text": [
            "enter the number of rows:8\n",
            "1\n",
            "12\n",
            "123\n",
            "1234\n",
            "12345\n",
            "123456\n",
            "1234567\n",
            "12345678\n"
          ]
        }
      ]
    },
    {
      "cell_type": "code",
      "source": [
        "# 7.\n",
        "# 2  9\n",
        "# 3  8\n",
        "# 4  7\n",
        "# 5  6\n",
        "# 6  5\n",
        "# 7  4\n",
        "# 8  3\n",
        "# 9  2\n",
        "# 10 1\n",
        "\n",
        "# for loop\n",
        "j=10\n",
        "for i in range(2,11):\n",
        "  j=j-1\n",
        "  print(i,j)\n",
        "\n",
        "\n",
        "# while loop\n",
        "j=10\n",
        "i=2\n",
        "while i in range(2,11):\n",
        "  j=j-1\n",
        "  print(i,j)\n",
        "  i+=1\n",
        "\n",
        "# def function\n",
        "\n",
        "def patr():\n",
        "  j=10\n",
        "  for i in range(2,11):\n",
        "    j-=1\n",
        "    print(i,j)\n",
        "\n",
        "patr()\n",
        "\n",
        "\n",
        "\n"
      ],
      "metadata": {
        "colab": {
          "base_uri": "https://localhost:8080/"
        },
        "id": "d_qaeAmmzr2I",
        "outputId": "d9c8b8cd-11d7-40f4-937b-f999f17368f2"
      },
      "execution_count": null,
      "outputs": [
        {
          "output_type": "stream",
          "name": "stdout",
          "text": [
            "2 9\n",
            "3 8\n",
            "4 7\n",
            "5 6\n",
            "6 5\n",
            "7 4\n",
            "8 3\n",
            "9 2\n",
            "10 1\n",
            "2 9\n",
            "3 8\n",
            "4 7\n",
            "5 6\n",
            "6 5\n",
            "7 4\n",
            "8 3\n",
            "9 2\n",
            "10 1\n",
            "2 9\n",
            "3 8\n",
            "4 7\n",
            "5 6\n",
            "6 5\n",
            "7 4\n",
            "8 3\n",
            "9 2\n",
            "10 1\n"
          ]
        }
      ]
    },
    {
      "cell_type": "code",
      "source": [
        "# 8.\n",
        "# 0 * 9 + 8        = 8\n",
        "# 9 * 9 + 7        = 88\n",
        "# 98 * 9 + 6       = 888\n",
        "# 987 * 9 + 5      = 8888\n",
        "# 9876 * 9 + 4     = 88888\n",
        "# 98765 * 9 + 3    = 888888\n",
        "# 987654 * 9 + 2   = 8888888\n",
        "# 9876543 * 9 + 1  = 88888888\n",
        "# 98765432 * 9 + 0 = 888888888\n",
        "\n",
        "# print('0','*','9','+','8' ,'        ','=8')\n",
        "\n",
        "# for loop\n",
        "a='098765432'\n",
        "sum=\" \"\n",
        "N=9\n",
        "for i in range(0,9):       \n",
        " sum = sum + a[i]\n",
        " b=int(sum)  \n",
        " N=N-1\n",
        " print(b,'*','9','+',N,N*' ','=',(b*9)+N)\n",
        "\n",
        "\n",
        "# while loop\n",
        "a='098765432'\n",
        "sum=\" \"\n",
        "N=9\n",
        "i=0\n",
        "while i in range(0,9):       \n",
        " sum = sum + a[i]\n",
        " b=int(sum)  \n",
        " N=N-1\n",
        " i+=1\n",
        " print(b,'*','9','+',N,N*' ','=',(b*9)+N)\n",
        "\n",
        "\n",
        "# def functions\n",
        "\n",
        "def patt16(b,N):\n",
        "  a='098765432'\n",
        "  sum=\" \"\n",
        "  N=9\n",
        "  for i in range(0,9):       \n",
        "   sum = sum + a[i]\n",
        "   b=int(sum)  \n",
        "   N=N-1\n",
        "   print(b,'*','9','+',N,'=',N*' ',(b*9)+N)\n",
        "patt16(b,N)\n"
      ],
      "metadata": {
        "id": "E1WuZqgDaFIa",
        "colab": {
          "base_uri": "https://localhost:8080/"
        },
        "outputId": "63390395-1d1f-4082-f15a-ed34e317f2c8"
      },
      "execution_count": null,
      "outputs": [
        {
          "output_type": "stream",
          "name": "stdout",
          "text": [
            "0 * 9 + 8          = 8\n",
            "9 * 9 + 7         = 88\n",
            "98 * 9 + 6        = 888\n",
            "987 * 9 + 5       = 8888\n",
            "9876 * 9 + 4      = 88888\n",
            "98765 * 9 + 3     = 888888\n",
            "987654 * 9 + 2    = 8888888\n",
            "9876543 * 9 + 1   = 88888888\n",
            "98765432 * 9 + 0  = 888888888\n",
            "0 * 9 + 8          = 8\n",
            "9 * 9 + 7         = 88\n",
            "98 * 9 + 6        = 888\n",
            "987 * 9 + 5       = 8888\n",
            "9876 * 9 + 4      = 88888\n",
            "98765 * 9 + 3     = 888888\n",
            "987654 * 9 + 2    = 8888888\n",
            "9876543 * 9 + 1   = 88888888\n",
            "98765432 * 9 + 0  = 888888888\n",
            "0 * 9 + 8 =          8\n",
            "9 * 9 + 7 =         88\n",
            "98 * 9 + 6 =        888\n",
            "987 * 9 + 5 =       8888\n",
            "9876 * 9 + 4 =      88888\n",
            "98765 * 9 + 3 =     888888\n",
            "987654 * 9 + 2 =    8888888\n",
            "9876543 * 9 + 1 =   88888888\n",
            "98765432 * 9 + 0 =  888888888\n"
          ]
        }
      ]
    },
    {
      "cell_type": "code",
      "source": [
        "# 9.\n",
        "# 1\n",
        "# 22\n",
        "# 333\n",
        "# 4444\n",
        "# 55555\n",
        "\n",
        "# for loop\n",
        "# rows = int(input('enter the no. of rows:'))\n",
        "# for i in range(rows):\n",
        "#     for j in range(i):\n",
        "#         print(i, end='')\n",
        "#     print('')\n",
        "\n",
        "\n",
        "# while loop\n",
        "# i=1\n",
        "# while i in range(rows):\n",
        "#   j=2\n",
        "#   while j in range(i):\n",
        "#     print(i,end='')\n",
        "#     i+=1\n",
        "#     j+=1\n",
        "\n",
        "# funtions\n",
        "\n",
        "def patt9():\n",
        " rows =int(input('enter the number of rows:'))\n",
        " for i in range(rows):\n",
        "    for j in range(i):\n",
        "        print(i, end='')\n",
        "    print('')\n",
        "patt9()\n"
      ],
      "metadata": {
        "id": "Ds5mw11ObMao",
        "colab": {
          "base_uri": "https://localhost:8080/"
        },
        "outputId": "07a29ef4-5d34-4481-9d2f-f423c8de22da"
      },
      "execution_count": null,
      "outputs": [
        {
          "output_type": "stream",
          "name": "stdout",
          "text": [
            "enter the number of rows:6\n",
            "\n",
            "1\n",
            "22\n",
            "333\n",
            "4444\n",
            "55555\n"
          ]
        }
      ]
    },
    {
      "cell_type": "code",
      "source": [
        "# 10.\n",
        "# 54321\n",
        "# 4321\n",
        "# 321\n",
        "# 21\n",
        "# 1\n",
        "\n",
        "# for loop\n",
        "b=7\n",
        "for i in range(1,6):\n",
        "    b=b-1\n",
        "    v=''\n",
        "    for j in range(1,b):\n",
        "      v=v+str(j)\n",
        "      z=v[::-1]\n",
        "    print(z)\n",
        "\n",
        "\n",
        "# WHILE LOOP\n",
        "\n",
        "# FUNCTION\n",
        "\n",
        "def patt10(b,z):\n",
        "  b=7\n",
        "  for i in range(1,6):\n",
        "    b=b-1\n",
        "    v=''\n",
        "    for j in range(1,b):\n",
        "      v=v+str(j)\n",
        "      z=v[::-1]\n",
        "    print(z)\n",
        "patt10(1,5)"
      ],
      "metadata": {
        "id": "vbWOMFlabOeb",
        "colab": {
          "base_uri": "https://localhost:8080/"
        },
        "outputId": "ec6e0e70-9992-40ca-cc1d-5876bea698f9"
      },
      "execution_count": null,
      "outputs": [
        {
          "output_type": "stream",
          "name": "stdout",
          "text": [
            "54321\n",
            "4321\n",
            "321\n",
            "21\n",
            "1\n"
          ]
        }
      ]
    },
    {
      "cell_type": "code",
      "source": [
        "# 11.\n",
        "# 1\n",
        "# 2  3\n",
        "# 4  5  6\n",
        "# 7  8  9  10\n",
        "# 11 12 13 14 15\n",
        "\n",
        "k = 1\n",
        "for i in range(0, 5):\n",
        "    for j in range(0, i+1):\n",
        "        print(k, end=\" \")\n",
        "        k = k + 1\n",
        "    print()\n",
        "\n",
        "\n",
        "# def function\n",
        "\n",
        "def patt14(a,b):\n",
        "  a = 5\n",
        "  b = 1\n",
        "  for i in range(1,1+a):\n",
        "    for j in range(1,i+1):\n",
        "      print(b,end=' ')\n",
        "      b=b+1\n",
        "    print()\n",
        "patt14(5,1)\n",
        "\n"
      ],
      "metadata": {
        "id": "ZSX_chFdbeo5",
        "colab": {
          "base_uri": "https://localhost:8080/"
        },
        "outputId": "ad3a59e9-f06d-428e-8ed9-89a5dd69619f"
      },
      "execution_count": null,
      "outputs": [
        {
          "output_type": "stream",
          "name": "stdout",
          "text": [
            "1 \n",
            "2 3 \n",
            "4 5 6 \n",
            "7 8 9 10 \n",
            "11 12 13 14 15 \n",
            "1 \n",
            "2 3 \n",
            "4 5 6 \n",
            "7 8 9 10 \n",
            "11 12 13 14 15 \n"
          ]
        }
      ]
    },
    {
      "cell_type": "code",
      "source": [
        "# 12.\n",
        "# 1  2  3  4  5\n",
        "# 6  7  8  9\n",
        "# 10 11 12\n",
        "# 13 14\n",
        "# 15\n",
        "\n",
        "# for loop\n",
        "b = 1 \n",
        "for i in range(6,0,-1):\n",
        "    for j in range(i-1):\n",
        "      if b>9:\n",
        "        print(b,end=' ')\n",
        "      else:\n",
        "        print(b, end=\"  \")\n",
        "      b = b+1\n",
        "    print()\n",
        "\n",
        "# def function\n",
        "def patt15(b):\n",
        "  b = 1 \n",
        "  for i in range(6,0,-1):\n",
        "      for j in range(i-1):\n",
        "        if b>9:\n",
        "          print(b,end=' ')\n",
        "        else:\n",
        "          print(b, end=\"  \")\n",
        "        b = b+1\n",
        "      print()\n",
        "patt15(1)\n"
      ],
      "metadata": {
        "id": "deDt3YrkcK5O",
        "colab": {
          "base_uri": "https://localhost:8080/"
        },
        "outputId": "d2127f9b-74cf-4321-d827-7a7104f0b85a"
      },
      "execution_count": null,
      "outputs": [
        {
          "output_type": "stream",
          "name": "stdout",
          "text": [
            "1  2  3  4  5  \n",
            "6  7  8  9  \n",
            "10 11 12 \n",
            "13 14 \n",
            "15 \n",
            "\n",
            "1  2  3  4  5  \n",
            "6  7  8  9  \n",
            "10 11 12 \n",
            "13 14 \n",
            "15 \n",
            "\n"
          ]
        }
      ]
    },
    {
      "cell_type": "code",
      "source": [
        "# 13.\n",
        "#   A\n",
        "#  ABC\n",
        "# ABCDE\n",
        "\n",
        "# for loop\n",
        "n = 3\n",
        "for i in range(n):\n",
        "    for j in range(n - i - 1):\n",
        "          print(' ', end='')\n",
        "    for k in range(2 * i + 1):\n",
        "          print(chr(65 + k), end='')\n",
        "    print()\n",
        "\n",
        "\n",
        "\n",
        "# def fuuntion\n",
        "def patt17(n):\n",
        "  n = 3\n",
        "  for i in range(n):\n",
        "      for j in range(n - i - 1):\n",
        "          print(' ', end='')\n",
        "      for k in range(2 * i + 1):\n",
        "          print(chr(65 + k), end='')\n",
        "      print()\n",
        "patt17(3)\n",
        "\n",
        "\n",
        "\n"
      ],
      "metadata": {
        "colab": {
          "base_uri": "https://localhost:8080/"
        },
        "id": "xmh1exnQAQVN",
        "outputId": "75490c1d-3800-42c0-d44c-fd5ca6ad073d"
      },
      "execution_count": null,
      "outputs": [
        {
          "output_type": "stream",
          "name": "stdout",
          "text": [
            "  A\n",
            " ABC\n",
            "ABCDE\n",
            "  A\n",
            " ABC\n",
            "ABCDE\n"
          ]
        }
      ]
    },
    {
      "cell_type": "code",
      "source": [
        "# 14.\n",
        "# daimond pattern\n",
        "\n",
        "# for loop \n",
        "a=int(input('star '))\n",
        "b=int(input('space '))\n",
        "c=int(input('stop '))\n",
        "d=int(input('space '))\n",
        "for i in range(1,a,2):\n",
        "   print((' '*b)+('*'*i))\n",
        "   b=b-1\n",
        "for i in range(c,0,-2):\n",
        "  print((' '*d)+('*'*i))\n",
        "  d=d+1\n",
        "print()\n",
        "\n",
        "\n",
        "# # def function\n",
        "# def patt8(a,b,c,d):\n",
        "#  for i in range(1,a,2):\n",
        "#    print((' '*b)+('*'*i))\n",
        "#    b=b-1\n",
        "#  for i in range(c,0,-2):\n",
        "#   print((' '*d)+('*'*i))\n",
        "#   d=d+1\n",
        "# patt8(10,5,9,1)"
      ],
      "metadata": {
        "colab": {
          "base_uri": "https://localhost:8080/"
        },
        "id": "grInFi1I006V",
        "outputId": "eb593b55-65c3-4b37-a8e6-bd8ec9b5f29d"
      },
      "execution_count": null,
      "outputs": [
        {
          "output_type": "stream",
          "name": "stdout",
          "text": [
            "star 10\n",
            "space 5\n",
            "stop 9\n",
            "space 1\n",
            "     *\n",
            "    ***\n",
            "   *****\n",
            "  *******\n",
            " *********\n",
            " *********\n",
            "  *******\n",
            "   *****\n",
            "    ***\n",
            "     *\n",
            "\n"
          ]
        }
      ]
    },
    {
      "cell_type": "code",
      "source": [
        "# 15.\n",
        "# 1\n",
        "# 2 4\n",
        "# 3 6 9\n",
        "# 4 8 12 16\n",
        "# 5 10 15 20 25\n",
        "# 6 12 18 24 30 36\n",
        "# 7 14 21 28 35 42 49\n",
        "# 8 16 24 32 40 48 56 64\n",
        "# 9 18 27 36 45 54 63 72 81\n",
        "# 10 20 30 40 50 60 70 80 90 100\n",
        "\n",
        "\n",
        "# for loop\n",
        "\n",
        "rows = 10\n",
        "for i in range(1, rows + 1):\n",
        "    for j in range(1, i + 1):\n",
        "        square = i * j\n",
        "        print(i * j, end=' ')\n",
        "    print()\n",
        "\n",
        "# # while loop\n",
        "# rows =11\n",
        "# i=1\n",
        "# while i in range(1,rows):\n",
        "#   while j in range(1,i+1):\n",
        "#     square = i*j\n",
        "#     print(i*j,end=' ')\n",
        "#     i+=1\n",
        "#     j+=1\n",
        "#   print()\n",
        "\n",
        "# def  function\n",
        "\n",
        "def patt13():\n",
        " rows = 10\n",
        " for i in range(1, rows + 1):\n",
        "    for j in range(1, i + 1):\n",
        "        square = i * j\n",
        "        print(i * j, end=' ')\n",
        "    print()\n",
        "patt13()"
      ],
      "metadata": {
        "id": "_b8krMoZ2fLF",
        "colab": {
          "base_uri": "https://localhost:8080/"
        },
        "outputId": "acc17ee5-2b24-43ed-b554-4fa1d205005a"
      },
      "execution_count": null,
      "outputs": [
        {
          "output_type": "stream",
          "name": "stdout",
          "text": [
            "1 \n",
            "2 4 \n",
            "3 6 9 \n",
            "4 8 12 16 \n",
            "5 10 15 20 25 \n",
            "6 12 18 24 30 36 \n",
            "7 14 21 28 35 42 49 \n",
            "8 16 24 32 40 48 56 64 \n",
            "9 18 27 36 45 54 63 72 81 \n",
            "10 20 30 40 50 60 70 80 90 100 \n",
            "1 \n",
            "2 4 \n",
            "3 6 9 \n",
            "4 8 12 16 \n",
            "5 10 15 20 25 \n",
            "6 12 18 24 30 36 \n",
            "7 14 21 28 35 42 49 \n",
            "8 16 24 32 40 48 56 64 \n",
            "9 18 27 36 45 54 63 72 81 \n",
            "10 20 30 40 50 60 70 80 90 100 \n"
          ]
        }
      ]
    },
    {
      "cell_type": "code",
      "source": [
        "#              1\n",
        "#            2 3\n",
        "#          4 5 6\n",
        "#       7 8 9 10\n",
        "# 11 12 13 14 15\n",
        "\n",
        "k = 1\n",
        "l=12\n",
        "\n",
        "for i in range(1,6):\n",
        "  print(l*' ',end='')\n",
        "\n",
        "  for j in range(i):\n",
        "    s=' '\n",
        "    if k>9:\n",
        "      l=0\n",
        "      print(k,end=' ')\n",
        "      \n",
        "    else:\n",
        "       print(k,end='  ')\n",
        "    \n",
        "    k=k+1\n",
        "  print()\n",
        "  l-=3\n",
        "\n",
        "  \n",
        "\n"
      ],
      "metadata": {
        "colab": {
          "base_uri": "https://localhost:8080/"
        },
        "id": "GX2GEldxelN3",
        "outputId": "364b832e-132c-4b75-adb6-f0a0dacbaffe"
      },
      "execution_count": null,
      "outputs": [
        {
          "output_type": "stream",
          "name": "stdout",
          "text": [
            "            1  \n",
            "         2  3  \n",
            "      4  5  6  \n",
            "   7  8  9  10 \n",
            "11 12 13 14 15 \n"
          ]
        }
      ]
    },
    {
      "cell_type": "markdown",
      "source": [],
      "metadata": {
        "id": "YvKgoYDgN6B_"
      }
    }
  ]
}