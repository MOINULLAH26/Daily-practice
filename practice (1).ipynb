{
  "nbformat": 4,
  "nbformat_minor": 0,
  "metadata": {
    "colab": {
      "provenance": []
    },
    "kernelspec": {
      "name": "python3",
      "display_name": "Python 3"
    },
    "language_info": {
      "name": "python"
    }
  },
  "cells": [
    {
      "cell_type": "code",
      "execution_count": 1,
      "metadata": {
        "colab": {
          "base_uri": "https://localhost:8080/"
        },
        "id": "J1KTuKlp4KWe",
        "outputId": "52ee93ff-5039-44cf-cd1c-931311a507ea"
      },
      "outputs": [
        {
          "output_type": "stream",
          "name": "stdout",
          "text": [
            "enter the number 23\n",
            "276\n",
            "55\n"
          ]
        }
      ],
      "source": [
        "# Write a python code to add first n numbers?\n",
        "a = int(input('enter the number '))\n",
        "b=0\n",
        "for i in range(1,a+1):\n",
        "  b=b+i\n",
        "print(b)\n",
        "\n",
        "i,sum = 1,0\n",
        "while i in range(1,11): # (i<11)\n",
        "  sum +=i\n",
        "  i+=1\n",
        "print(sum)"
      ]
    },
    {
      "cell_type": "code",
      "source": [
        "#  find the index value of a 2D list\n",
        "a=['b','c','h',['d','e'],['f','g']]\n",
        "b = input('Give an input: ')\n",
        "for i in range(len(a)):\n",
        "  if (type(a[i]) ==  list):\n",
        "    for j in range(len(a[i])):\n",
        "      if (a[i][j]==b):\n",
        "        print(i,j)\n",
        "        break\n",
        "  else:\n",
        "    if (a[i]==b):\n",
        "      print(i)\n",
        "      break"
      ],
      "metadata": {
        "colab": {
          "base_uri": "https://localhost:8080/"
        },
        "id": "4KdOaBVa4che",
        "outputId": "33902a3b-8167-4d27-e78b-1a571b751488"
      },
      "execution_count": 2,
      "outputs": [
        {
          "name": "stdout",
          "output_type": "stream",
          "text": [
            "Give an input: ddbjvkg\n"
          ]
        }
      ]
    },
    {
      "cell_type": "code",
      "source": [],
      "metadata": {
        "id": "JzpmAk6X5L9E"
      },
      "execution_count": 2,
      "outputs": []
    },
    {
      "cell_type": "code",
      "execution_count": 3,
      "metadata": {
        "colab": {
          "base_uri": "https://localhost:8080/"
        },
        "id": "QW2TBSMbexBe",
        "outputId": "0d217d2c-a6f0-4dba-fbd1-006b84c5c81a"
      },
      "outputs": [
        {
          "output_type": "stream",
          "name": "stdout",
          "text": [
            "enter the number: 34\n",
            "the number is even number\n"
          ]
        }
      ],
      "source": [
        "# 1) Write a program to given input Check whether Even or odd.\n",
        "a=int(input('enter the number: '))\n",
        "if (a%2)==0:\n",
        "  print('the number is even number')\n",
        "else:\n",
        "  print('the number is odd number')"
      ]
    },
    {
      "cell_type": "code",
      "source": [
        "a = 0\n",
        "while (a<5):\n",
        "  a+=1\n",
        "  print(a)"
      ],
      "metadata": {
        "id": "c1Mv3ot5jIfe",
        "colab": {
          "base_uri": "https://localhost:8080/"
        },
        "outputId": "15f5a55f-a889-4c4c-fbc2-4beff6260ab0"
      },
      "execution_count": 4,
      "outputs": [
        {
          "output_type": "stream",
          "name": "stdout",
          "text": [
            "1\n",
            "2\n",
            "3\n",
            "4\n",
            "5\n"
          ]
        }
      ]
    },
    {
      "cell_type": "code",
      "source": [
        "\n",
        "# 2) Write a program to Generate Even and Odd Number less than N and Generate ‘N’ Even and Odd Numbers.\n",
        "a=int(input('enter the number: '))\n",
        "b=0\n",
        "while (b<a):\n",
        "  if (a%2)==0:\n",
        "   print('the number is even number')\n",
        "  else:\n",
        "   print('the number is odd number')\n",
        "  b+=1\n",
        "  break\n",
        "  print(b)"
      ],
      "metadata": {
        "colab": {
          "base_uri": "https://localhost:8080/"
        },
        "id": "vZ-bzRAVgacQ",
        "outputId": "e306dcce-c7d3-482c-e23e-fb3af878b222"
      },
      "execution_count": 5,
      "outputs": [
        {
          "output_type": "stream",
          "name": "stdout",
          "text": [
            "enter the number: 10\n",
            "the number is even number\n"
          ]
        }
      ]
    },
    {
      "cell_type": "code",
      "source": [
        "# 3) Write a program to decide given N is Prime or not\n",
        "a=int(input('enter the number: '))\n",
        "if a==1 or a==0:\n",
        "  print(' neither prime nor composite')\n",
        "for i in range(2,a):\n",
        " if ((a%i)==0):\n",
        "  print('is not a prime')\n",
        "  break\n",
        " else:\n",
        "  print('is a prime')\n",
        "  break"
      ],
      "metadata": {
        "colab": {
          "base_uri": "https://localhost:8080/"
        },
        "id": "x4OliNZ0j5Jo",
        "outputId": "6f53bc97-d4ba-400b-bb46-0bc4577831a9"
      },
      "execution_count": 6,
      "outputs": [
        {
          "output_type": "stream",
          "name": "stdout",
          "text": [
            "enter the number: 344\n",
            "is not a prime\n"
          ]
        }
      ]
    },
    {
      "cell_type": "code",
      "source": [
        "# 4) Write a program to subtract two integers without using Minus (-) operator\n",
        "a=int(input('enter the number: '))\n",
        "b=int(input('enter the number: '))\n",
        "sub=a+(~b+1)\n",
        "print(sub)"
      ],
      "metadata": {
        "colab": {
          "base_uri": "https://localhost:8080/"
        },
        "id": "l38urAa1li1p",
        "outputId": "a76da1fc-71be-4442-a6f9-472e7e3d9b89"
      },
      "execution_count": 12,
      "outputs": [
        {
          "output_type": "stream",
          "name": "stdout",
          "text": [
            "enter the number: 12\n",
            "enter the number: 23\n",
            "-11\n"
          ]
        }
      ]
    },
    {
      "cell_type": "code",
      "source": [
        "# 5) Write a program to find remainder of two numbers without using modulus (%) operator\n",
        "def remainder(num,divisor):\n",
        "  return (num - divisor *(num//divisor))\n",
        "remainder(3,2)"
      ],
      "metadata": {
        "id": "34H-zIS-mTDw"
      },
      "execution_count": null,
      "outputs": []
    },
    {
      "cell_type": "code",
      "source": [
        "# 6) Write a program to generate Prime Numbers less than N and Generate ‘N’ Prime Numbers/in given range.\n",
        "start = int(input('Enter a number to start: '))\n",
        "stop = int(input('Enter a number to stop: '))\n",
        "for i in range(start, stop+1):\n",
        "  for j in range(2,i):\n",
        "    if ((i%j)==0):\n",
        "      break\n",
        "  else:\n",
        "    print(i)"
      ],
      "metadata": {
        "colab": {
          "base_uri": "https://localhost:8080/"
        },
        "id": "JmtnBMZsmwXI",
        "outputId": "ba256b33-a87b-497c-8b82-f3f63836041a"
      },
      "execution_count": 11,
      "outputs": [
        {
          "output_type": "stream",
          "name": "stdout",
          "text": [
            "Enter a number to start: 1\n",
            "Enter a number to stop: 5\n",
            "1\n",
            "2\n",
            "3\n",
            "5\n"
          ]
        }
      ]
    },
    {
      "cell_type": "code",
      "source": [
        "# 7) Write a program that prints the numbers from 1 to 100 and for multiples of '3' print \"Fizz\" instead of\n",
        "# the number and for the multiples of '5' print \"Buzz\".\n",
        "for i in range(1,101):\n",
        "  if (i%3)==0:\n",
        "    print('fizz')\n",
        "  elif (i%5)==0:\n",
        "    print('buzz')\n",
        "  else:\n",
        "    print(i)"
      ],
      "metadata": {
        "id": "MRqoSuyHnKtw",
        "colab": {
          "base_uri": "https://localhost:8080/"
        },
        "outputId": "79c2f83d-0684-4d9b-a58b-75d5c1275707"
      },
      "execution_count": 10,
      "outputs": [
        {
          "output_type": "stream",
          "name": "stdout",
          "text": [
            "1\n",
            "2\n",
            "fizz\n",
            "4\n",
            "buzz\n",
            "fizz\n",
            "7\n",
            "8\n",
            "fizz\n",
            "buzz\n",
            "11\n",
            "fizz\n",
            "13\n",
            "14\n",
            "fizz\n",
            "16\n",
            "17\n",
            "fizz\n",
            "19\n",
            "buzz\n",
            "fizz\n",
            "22\n",
            "23\n",
            "fizz\n",
            "buzz\n",
            "26\n",
            "fizz\n",
            "28\n",
            "29\n",
            "fizz\n",
            "31\n",
            "32\n",
            "fizz\n",
            "34\n",
            "buzz\n",
            "fizz\n",
            "37\n",
            "38\n",
            "fizz\n",
            "buzz\n",
            "41\n",
            "fizz\n",
            "43\n",
            "44\n",
            "fizz\n",
            "46\n",
            "47\n",
            "fizz\n",
            "49\n",
            "buzz\n",
            "fizz\n",
            "52\n",
            "53\n",
            "fizz\n",
            "buzz\n",
            "56\n",
            "fizz\n",
            "58\n",
            "59\n",
            "fizz\n",
            "61\n",
            "62\n",
            "fizz\n",
            "64\n",
            "buzz\n",
            "fizz\n",
            "67\n",
            "68\n",
            "fizz\n",
            "buzz\n",
            "71\n",
            "fizz\n",
            "73\n",
            "74\n",
            "fizz\n",
            "76\n",
            "77\n",
            "fizz\n",
            "79\n",
            "buzz\n",
            "fizz\n",
            "82\n",
            "83\n",
            "fizz\n",
            "buzz\n",
            "86\n",
            "fizz\n",
            "88\n",
            "89\n",
            "fizz\n",
            "91\n",
            "92\n",
            "fizz\n",
            "94\n",
            "buzz\n",
            "fizz\n",
            "97\n",
            "98\n",
            "fizz\n",
            "buzz\n"
          ]
        }
      ]
    },
    {
      "cell_type": "code",
      "source": [
        "# 8) Write a program to find GCD (Greatest Common Divisor) or HCF (Highest Common Factor) of two\n",
        "# numbers is the largest number that divides both of them using recursion.\n",
        "def gcd(a, b):\n",
        "  if a == b:\n",
        "     return a\n",
        "  elif a < b:\n",
        "    return gcd(b, a)\n",
        "  else:\n",
        "    return gcd(b, a - b)\n",
        "\n",
        "gcd(25,45)"
      ],
      "metadata": {
        "id": "lAX4-Y4boRmV",
        "colab": {
          "base_uri": "https://localhost:8080/"
        },
        "outputId": "9e3a58be-10c3-4d9c-d79b-58634f8e059b"
      },
      "execution_count": 9,
      "outputs": [
        {
          "output_type": "execute_result",
          "data": {
            "text/plain": [
              "5"
            ]
          },
          "metadata": {},
          "execution_count": 9
        }
      ]
    },
    {
      "cell_type": "code",
      "source": [
        "# 9) Write a program find GCD of the array elements given an array of numbers,\n",
        "def find_gcd(x, y):\n",
        "    while(y):\n",
        "        x, y = y, x % y  \n",
        "    return x\n",
        "l = [2, 4, 6, 8, 16]\n",
        "  \n",
        "num1=l[0]\n",
        "num2=l[1]\n",
        "gcd=find_gcd(num1,num2)\n",
        "  \n",
        "for i in range(2,len(l)):\n",
        "    gcd=find_gcd(gcd,l[i])\n",
        "      \n",
        "print(gcd)"
      ],
      "metadata": {
        "colab": {
          "base_uri": "https://localhost:8080/"
        },
        "id": "QizOKUNh6TXl",
        "outputId": "fb7d66b9-9ddb-463d-a8a2-6072d6cbac2a"
      },
      "execution_count": 8,
      "outputs": [
        {
          "output_type": "stream",
          "name": "stdout",
          "text": [
            "2\n"
          ]
        }
      ]
    }
  ]
}